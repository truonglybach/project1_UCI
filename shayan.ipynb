{
 "cells": [
  {
   "cell_type": "code",
   "execution_count": 1,
   "metadata": {},
   "outputs": [],
   "source": [
    "# Decorations\n",
    "import requests\n",
    "import pandas as pd\n",
    "import numpy as np\n",
    "import matplotlib.pyplot as plt\n",
    "from pprint import pprint\n",
    "import gmplot\n",
    "import scipy.stats as stats\n",
    "from config import api_key"
   ]
  },
  {
   "cell_type": "code",
   "execution_count": 2,
   "metadata": {},
   "outputs": [],
   "source": [
    "# Import database\n",
    "df1 = pd.read_csv('Data/housing.csv')\n",
    "df2 = pd.read_csv('Data/Total.csv')\n",
    "df1 = df1.dropna()"
   ]
  },
  {
   "cell_type": "markdown",
   "metadata": {},
   "source": [
    "### df1(1990) Analysis"
   ]
  },
  {
   "cell_type": "markdown",
   "metadata": {},
   "source": [
    "Sort and slice data to get top and bottom 5%"
   ]
  },
  {
   "cell_type": "code",
   "execution_count": 3,
   "metadata": {
    "scrolled": true
   },
   "outputs": [
    {
     "data": {
      "text/html": [
       "<div>\n",
       "<style scoped>\n",
       "    .dataframe tbody tr th:only-of-type {\n",
       "        vertical-align: middle;\n",
       "    }\n",
       "\n",
       "    .dataframe tbody tr th {\n",
       "        vertical-align: top;\n",
       "    }\n",
       "\n",
       "    .dataframe thead th {\n",
       "        text-align: right;\n",
       "    }\n",
       "</style>\n",
       "<table border=\"1\" class=\"dataframe\">\n",
       "  <thead>\n",
       "    <tr style=\"text-align: right;\">\n",
       "      <th></th>\n",
       "      <th>longitude</th>\n",
       "      <th>latitude</th>\n",
       "      <th>housing_median_age</th>\n",
       "      <th>total_rooms</th>\n",
       "      <th>total_bedrooms</th>\n",
       "      <th>population</th>\n",
       "      <th>households</th>\n",
       "      <th>median_income</th>\n",
       "      <th>median_house_value</th>\n",
       "      <th>ocean_proximity</th>\n",
       "    </tr>\n",
       "  </thead>\n",
       "  <tbody>\n",
       "    <tr>\n",
       "      <th>0</th>\n",
       "      <td>-118.42</td>\n",
       "      <td>34.08</td>\n",
       "      <td>48</td>\n",
       "      <td>2413</td>\n",
       "      <td>261.0</td>\n",
       "      <td>770</td>\n",
       "      <td>248</td>\n",
       "      <td>15.0001</td>\n",
       "      <td>500001</td>\n",
       "      <td>&lt;1H OCEAN</td>\n",
       "    </tr>\n",
       "    <tr>\n",
       "      <th>1</th>\n",
       "      <td>-117.66</td>\n",
       "      <td>33.48</td>\n",
       "      <td>22</td>\n",
       "      <td>809</td>\n",
       "      <td>180.0</td>\n",
       "      <td>334</td>\n",
       "      <td>157</td>\n",
       "      <td>2.3846</td>\n",
       "      <td>500001</td>\n",
       "      <td>&lt;1H OCEAN</td>\n",
       "    </tr>\n",
       "    <tr>\n",
       "      <th>2</th>\n",
       "      <td>-118.50</td>\n",
       "      <td>33.97</td>\n",
       "      <td>29</td>\n",
       "      <td>2737</td>\n",
       "      <td>808.0</td>\n",
       "      <td>1157</td>\n",
       "      <td>696</td>\n",
       "      <td>5.1280</td>\n",
       "      <td>500001</td>\n",
       "      <td>&lt;1H OCEAN</td>\n",
       "    </tr>\n",
       "    <tr>\n",
       "      <th>3</th>\n",
       "      <td>-122.47</td>\n",
       "      <td>37.73</td>\n",
       "      <td>50</td>\n",
       "      <td>1653</td>\n",
       "      <td>252.0</td>\n",
       "      <td>641</td>\n",
       "      <td>224</td>\n",
       "      <td>10.6605</td>\n",
       "      <td>500001</td>\n",
       "      <td>NEAR OCEAN</td>\n",
       "    </tr>\n",
       "    <tr>\n",
       "      <th>4</th>\n",
       "      <td>-122.47</td>\n",
       "      <td>37.73</td>\n",
       "      <td>52</td>\n",
       "      <td>2151</td>\n",
       "      <td>280.0</td>\n",
       "      <td>762</td>\n",
       "      <td>274</td>\n",
       "      <td>10.7309</td>\n",
       "      <td>500001</td>\n",
       "      <td>NEAR OCEAN</td>\n",
       "    </tr>\n",
       "  </tbody>\n",
       "</table>\n",
       "</div>"
      ],
      "text/plain": [
       "   longitude  latitude  housing_median_age  total_rooms  total_bedrooms  \\\n",
       "0    -118.42     34.08                  48         2413           261.0   \n",
       "1    -117.66     33.48                  22          809           180.0   \n",
       "2    -118.50     33.97                  29         2737           808.0   \n",
       "3    -122.47     37.73                  50         1653           252.0   \n",
       "4    -122.47     37.73                  52         2151           280.0   \n",
       "\n",
       "   population  households  median_income  median_house_value ocean_proximity  \n",
       "0         770         248        15.0001              500001       <1H OCEAN  \n",
       "1         334         157         2.3846              500001       <1H OCEAN  \n",
       "2        1157         696         5.1280              500001       <1H OCEAN  \n",
       "3         641         224        10.6605              500001      NEAR OCEAN  \n",
       "4         762         274        10.7309              500001      NEAR OCEAN  "
      ]
     },
     "execution_count": 3,
     "metadata": {},
     "output_type": "execute_result"
    }
   ],
   "source": [
    "# SSort data by house value\n",
    "df1 = df1.sort_values('median_house_value', ascending=False).reset_index(drop=True)\n",
    "df1.head()"
   ]
  },
  {
   "cell_type": "code",
   "execution_count": null,
   "metadata": {},
   "outputs": [],
   "source": [
    "# Slice the top 5%\n",
    "top5 = df1.iloc[:round(len(df1['median_house_value'])*0.05), :].sort_values('median_house_value', ascending=False)\n",
    "top5.head()"
   ]
  },
  {
   "cell_type": "code",
   "execution_count": null,
   "metadata": {},
   "outputs": [],
   "source": [
    "# slice the bottom 5%\n",
    "bottom5 = df1.iloc[round(len(df1['median_house_value'])*0.95): len(df1['median_house_value']),:].sort_values('median_house_value', ascending=True)\n",
    "bottom5.head()"
   ]
  },
  {
   "cell_type": "markdown",
   "metadata": {},
   "source": [
    "Plotting Top 5% and Bottom 5% on gmap (Use gmplot package)"
   ]
  },
  {
   "cell_type": "code",
   "execution_count": null,
   "metadata": {},
   "outputs": [],
   "source": [
    "# Set the center of the map\n",
    "gmap = gmplot.GoogleMapPlotter(top5['latitude'].median(),\n",
    "                                   top5['longitude'].median(), 100000)\n",
    "# Plot scatter points based on LatLng\n",
    "gmap.scatter(top5['latitude'], top5['longitude'], '#FF0000', \n",
    "                              size = 2000, marker = False ) \n",
    "gmap.scatter(bottom5['latitude'], bottom5['longitude'], '#110870', \n",
    "                              size = 2000, marker = False ) \n",
    "# Draw out to 'Plot' folder in html format\n",
    "gmap.draw(\"Plot/gmap.html\")"
   ]
  },
  {
   "cell_type": "markdown",
   "metadata": {},
   "source": [
    "Based on the plot, we can assume that the median house value is heavliy influenced by their location."
   ]
  },
  {
   "cell_type": "markdown",
   "metadata": {},
   "source": [
    "Now we clean our data and create a new dataframe with informations we need"
   ]
  },
  {
   "cell_type": "markdown",
   "metadata": {},
   "source": [
    "First, we look at the relationship between income and house value"
   ]
  },
  {
   "cell_type": "code",
   "execution_count": null,
   "metadata": {
    "scrolled": false
   },
   "outputs": [],
   "source": [
    "plt.plot(top5['median_house_value'], top5['median_income'])\n",
    "plt.xlabel('House Value')\n",
    "plt.ylabel('Income')\n",
    "plt.title('House Value vs. Income')"
   ]
  },
  {
   "cell_type": "markdown",
   "metadata": {},
   "source": [
    "Above plot shows that there's no visible correlation between income and house value, since there's no specifice trending (increase nor decrease) in house value as income increase. Rather, we can see that people with lower income(for example, for income=2) live in more expensive houses. "
   ]
  },
  {
   "cell_type": "markdown",
   "metadata": {},
   "source": [
    "It is also possible that number of rooms/bedrooms are related to house value"
   ]
  },
  {
   "cell_type": "code",
   "execution_count": null,
   "metadata": {},
   "outputs": [],
   "source": [
    "# bins = [0, 3, 6, 9, 12, 15]\n",
    "# group_names = [\"<3\", \"3$-6$\", \"6$-9$\", \"9$-12$\", \">12$\"]\n",
    "# top5['median_income_groups'] = pd.cut(top5['median_income'], bins, labels=group_names)\n",
    "\n",
    "# plt.scatter(top5['median_house_value'], top5['median_income_groups'])\n",
    "# plt.xlabel('House Value')\n",
    "# plt.ylabel('Population')\n",
    "# plt.title('Population vs House Value')"
   ]
  },
  {
   "cell_type": "markdown",
   "metadata": {},
   "source": [
    "## Whole 1990 data Total Rooms vs Population"
   ]
  },
  {
   "cell_type": "code",
   "execution_count": null,
   "metadata": {
    "scrolled": true
   },
   "outputs": [],
   "source": [
    "plt.plot(df1['population'], df1['total_rooms'], c='r')\n",
    "plt.title('Population per District vs. Total Rooms per District')\n",
    "plt.xlabel('Population')\n",
    "pop_vs_rooms = plt.ylabel('Total Rooms')\n",
    "plt.grid()\n",
    "plt.savefig(\"Plot/pop_vs_rooms.png\", dpi=300)\n",
    "plt.show()"
   ]
  },
  {
   "cell_type": "markdown",
   "metadata": {},
   "source": [
    "We make a little subgroups to see their effect on population:"
   ]
  },
  {
   "cell_type": "code",
   "execution_count": null,
   "metadata": {},
   "outputs": [],
   "source": [
    "bins = [0, 5000, 10000, 15000, 20000, 25000, 30000, 35000, 40000]\n",
    "group_names = [\"<5k\", \"5k-10k\", \"10k-15k\", \"15k-20k\", \"20k-25k\", \"25k-30k\", \"30k-35k\", \">35k\"]\n",
    "df1[\"total_rooms_groups\"] = pd.cut(df1['total_rooms'], bins, labels=group_names)\n",
    "\n",
    "plt.scatter(df1['total_rooms_groups'], df1['population'])\n",
    "plt.xlabel('Total Rooms')\n",
    "plt.ylabel('Population')\n",
    "plt.title('Total Rooms per District vs Population per District')\n",
    "plt.grid()\n",
    "plt.savefig(\"Plot/pop_vs_rooms_sub_groups.png\", dpi=300)\n",
    "plt.show()"
   ]
  },
  {
   "cell_type": "markdown",
   "metadata": {},
   "source": [
    "## Top 5 House Values vs Population"
   ]
  },
  {
   "cell_type": "code",
   "execution_count": null,
   "metadata": {},
   "outputs": [],
   "source": [
    "plt.plot(top5['median_house_value'], top5['population'])\n",
    "plt.xlabel('House Value')\n",
    "plt.ylabel('Poulation')\n",
    "plt.title('Population vs House Value')\n",
    "plt.savefig(\"Plot/Top5_PHV_nosubgroup.png\")\n",
    "plt.show()"
   ]
  },
  {
   "cell_type": "markdown",
   "metadata": {},
   "source": [
    "As the above diagrams is not good results especially at high price, we devided the population by sub-groups:"
   ]
  },
  {
   "cell_type": "code",
   "execution_count": null,
   "metadata": {
    "scrolled": true
   },
   "outputs": [],
   "source": [
    "bins = [0, 1000, 2000, 3000, 4000, 5000, 6000, 7000, 8000]\n",
    "group_names = [\"<1k\", \"1k-2k\", \"2k-3k\", \"3k-4k\", \"4k-5k\", \"5k-6k\", \"6k-7k\", \">7k\"]\n",
    "top5[\"population_groups\"] = pd.cut(top5['population'], bins, labels=group_names)\n",
    "\n",
    "plt.scatter(top5['median_house_value'], top5['population_groups'])\n",
    "plt.xlabel('House Value')\n",
    "plt.ylabel('Population')\n",
    "plt.title('Population vs House Value')\n",
    "plt.savefig(\"Plot/Top5_PHV.png\")\n",
    "plt.show()"
   ]
  },
  {
   "cell_type": "markdown",
   "metadata": {},
   "source": [
    "For the most expensive top 5 percent, we can see that lower poulation can be in any house with various prices and the higher poulation lives in the most expensive ones (the bigger blocks are more expensive they are)."
   ]
  },
  {
   "cell_type": "markdown",
   "metadata": {},
   "source": [
    "## Bottom 5 House Values vs Population"
   ]
  },
  {
   "cell_type": "code",
   "execution_count": null,
   "metadata": {},
   "outputs": [],
   "source": [
    "bins = [0, 3000, 6000, 9000, 12000, 15000, 18000]\n",
    "group_names = [\"<3k\", \"3k-6k\", \"6k-9k\", \"9k-12k\", \"12k-15k\", \">15k\"]\n",
    "bottom5[\"population_groups\"] = pd.cut(bottom5['population'], bins, labels=group_names)\n",
    "\n",
    "plt.scatter(bottom5['median_house_value'], bottom5['population_groups'])\n",
    "plt.xlabel('House Value')\n",
    "plt.ylabel('Population')\n",
    "plt.title('Population vs House Value')\n",
    "plt.savefig(\"Plot/Bottom5_PHV.png\")\n",
    "plt.show()"
   ]
  },
  {
   "cell_type": "markdown",
   "metadata": {},
   "source": [
    "We can see that lower poulation can be in any house with various prices and interstingly the higher poulation has the same condition for the cheap price houses."
   ]
  },
  {
   "cell_type": "markdown",
   "metadata": {},
   "source": [
    "## Ocean Proximity vs Count of Houses"
   ]
  },
  {
   "cell_type": "code",
   "execution_count": null,
   "metadata": {
    "scrolled": true
   },
   "outputs": [],
   "source": [
    "x_axis_op = [\"<1H OCEAN\", \"INLAND\", \"ISLAND\", \"NEAR BAY\", \"NEAR OCEAN\"]\n",
    "y_axis_op = df1.groupby(\"ocean_proximity\").count().rename(columns={\"longitude\": \"count_of_houses\"})[\"count_of_houses\"]\n",
    "plt.bar(x_axis_op, y_axis_op, color='b', alpha=0.5, align='center')\n",
    "plt.xlabel(\"Ocean Proximity\")\n",
    "plt.ylabel(\"Count of Houses\")\n",
    "op_bar_chart = plt.title(\"Top Five Percent\")\n",
    "plt.savefig(\"Plot/all_NOP.png\")\n",
    "plt.show()"
   ]
  },
  {
   "cell_type": "markdown",
   "metadata": {},
   "source": [
    "The process shows that people totally in 1990 preferred to live near the ocean."
   ]
  },
  {
   "cell_type": "markdown",
   "metadata": {},
   "source": [
    "## Top 5 Percent Ocean Proximity vs Count of Houses"
   ]
  },
  {
   "cell_type": "code",
   "execution_count": null,
   "metadata": {},
   "outputs": [],
   "source": [
    "x_axis_op = [\"<1H OCEAN\", \"INLAND\", \"NEAR BAY\", \"NEAR OCEAN\"]\n",
    "y_axis_op = top5.groupby(\"ocean_proximity\").count().rename(columns={\"longitude\": \"count_of_houses\"})[\"count_of_houses\"]\n",
    "plt.bar(x_axis_op, y_axis_op, color='b', alpha=0.5, align='center')\n",
    "plt.xlabel(\"Ocean Proximity\")\n",
    "plt.ylabel(\"Count of Houses\")\n",
    "op_bar_chart = plt.title(\"Top Five Percent\")\n",
    "plt.savefig(\"Plot/Top5_NOP.png\")\n",
    "plt.show()"
   ]
  },
  {
   "cell_type": "markdown",
   "metadata": {},
   "source": [
    "## Bottom 5 Percent Ocean Proximity vs Count of Houses"
   ]
  },
  {
   "cell_type": "code",
   "execution_count": null,
   "metadata": {},
   "outputs": [],
   "source": [
    "x_axis_op = [\"<1H OCEAN\", \"INLAND\", \"NEAR BAY\", \"NEAR OCEAN\"]\n",
    "y_axis_op = bottom5.groupby(\"ocean_proximity\").count().rename(columns={\"longitude\": \"count_of_houses\"})[\"count_of_houses\"]\n",
    "plt.bar(x_axis_op, y_axis_op, color='g', alpha=0.5, align='center')\n",
    "plt.xlabel(\"Ocean Proximity\")\n",
    "plt.ylabel(\"Count of Houses\")\n",
    "op_bar_chart = plt.title(\"Bottom Five Percent\")\n",
    "plt.savefig(\"Plot/Bottom5_NOP.png\")\n",
    "plt.show()"
   ]
  },
  {
   "cell_type": "markdown",
   "metadata": {},
   "source": [
    "Comparison between two bar charts show that there is a tendancy of living near ocean/bay rather than inland."
   ]
  },
  {
   "cell_type": "markdown",
   "metadata": {},
   "source": [
    "## Top Five Ocean Proximity Average Median Price"
   ]
  },
  {
   "cell_type": "code",
   "execution_count": null,
   "metadata": {},
   "outputs": [],
   "source": [
    "op_mean_house_value_top = top5.groupby(\"ocean_proximity\")[\"median_house_value\"].mean().round(2)\n",
    "op_mean_df_top = pd.DataFrame(op_mean_house_value_top)\n",
    "op_mean_df_top.rename(columns={\"median_house_value\":\"Average Median Price\"})"
   ]
  },
  {
   "cell_type": "markdown",
   "metadata": {},
   "source": [
    "## Bottom Five Ocean Proximity Average Median Price"
   ]
  },
  {
   "cell_type": "code",
   "execution_count": null,
   "metadata": {},
   "outputs": [],
   "source": [
    "op_mean_house_value_bottom = bottom5.groupby(\"ocean_proximity\")[\"median_house_value\"].mean().round(2)\n",
    "op_mean_df_bottom = pd.DataFrame(op_mean_house_value_bottom)\n",
    "op_mean_df_bottom.rename(columns={\"median_house_value\":\"Average Median Price\"})"
   ]
  },
  {
   "cell_type": "markdown",
   "metadata": {},
   "source": [
    "## Top Five Ocean Proximity Max Median Price"
   ]
  },
  {
   "cell_type": "code",
   "execution_count": null,
   "metadata": {},
   "outputs": [],
   "source": [
    "op_max_house_value_top = top5.groupby(\"ocean_proximity\")[\"median_house_value\"].max().round(2)\n",
    "op_max_df_top = pd.DataFrame(op_max_house_value_top)\n",
    "op_max_df_top.rename(columns={\"median_house_value\":\"Average Median Price\"})"
   ]
  },
  {
   "cell_type": "markdown",
   "metadata": {},
   "source": [
    "## Top Five Ocean Proximity Min Median Price"
   ]
  },
  {
   "cell_type": "code",
   "execution_count": null,
   "metadata": {},
   "outputs": [],
   "source": [
    "op_min_house_value_top = top5.groupby(\"ocean_proximity\")[\"median_house_value\"].min().round(2)\n",
    "op_min_df_top = pd.DataFrame(op_min_house_value_top)\n",
    "op_min_df_top.rename(columns={\"median_house_value\":\"Average Median Price\"})"
   ]
  },
  {
   "cell_type": "markdown",
   "metadata": {},
   "source": [
    "## Bottom Five Ocean Proximity Max Median Price"
   ]
  },
  {
   "cell_type": "code",
   "execution_count": null,
   "metadata": {},
   "outputs": [],
   "source": [
    "op_max_house_value_bot = bottom5.groupby(\"ocean_proximity\")[\"median_house_value\"].max().round(2)\n",
    "op_max_df_bot = pd.DataFrame(op_max_house_value_bot)\n",
    "op_max_df_bot.rename(columns={\"median_house_value\":\"Average Median Price\"})"
   ]
  },
  {
   "cell_type": "markdown",
   "metadata": {},
   "source": [
    "## Bottom Five Ocean Proximity Min Median Price"
   ]
  },
  {
   "cell_type": "code",
   "execution_count": null,
   "metadata": {
    "scrolled": true
   },
   "outputs": [],
   "source": [
    "op_min_house_value_bot = bottom5.groupby(\"ocean_proximity\")[\"median_house_value\"].min().round(2)\n",
    "op_min_df_top = pd.DataFrame(op_min_house_value_bot)\n",
    "op_min_df_top.rename(columns={\"median_house_value\":\"Average Median Price\"})"
   ]
  },
  {
   "cell_type": "markdown",
   "metadata": {},
   "source": [
    "The data above shows that although the inland in top 5 are not preferred, their price was higher in year 1990."
   ]
  },
  {
   "cell_type": "markdown",
   "metadata": {},
   "source": [
    "### df2(2018) Analysis "
   ]
  },
  {
   "cell_type": "code",
   "execution_count": null,
   "metadata": {},
   "outputs": [],
   "source": [
    "df2.head()"
   ]
  },
  {
   "cell_type": "code",
   "execution_count": null,
   "metadata": {},
   "outputs": [],
   "source": [
    "# Keep only the columns that are useful \n",
    "df2 = df2[['Sub Type', 'St#', 'St Name', 'City', 'L/C Price', 'Br/Ba', 'YrBuilt']]\n",
    "df2.head()\n",
    "#df2 = df2.drop(on=0)"
   ]
  },
  {
   "cell_type": "code",
   "execution_count": null,
   "metadata": {},
   "outputs": [],
   "source": [
    "yr_blt = df2.loc[:, 'YrBuilt'].str.split('/', expand=True)[0]\n",
    "yr_blt = pd.DataFrame(yr_blt)\n",
    "yr_blt = yr_blt.fillna(0)"
   ]
  },
  {
   "cell_type": "code",
   "execution_count": null,
   "metadata": {
    "scrolled": false
   },
   "outputs": [],
   "source": [
    "df2['Age'] = ''\n",
    "count = 0\n",
    "for i in yr_blt[0]:\n",
    "        i = 2018 - int(i)\n",
    "        df2['Age'][count] = i\n",
    "        count += 1\n",
    "df2.head()"
   ]
  },
  {
   "cell_type": "code",
   "execution_count": null,
   "metadata": {},
   "outputs": [],
   "source": [
    "df2['house_price'] = df2.loc[:, 'L/C Price'].str.split('$', expand=True)[1] "
   ]
  },
  {
   "cell_type": "code",
   "execution_count": null,
   "metadata": {},
   "outputs": [],
   "source": [
    "df2.head()"
   ]
  },
  {
   "cell_type": "code",
   "execution_count": null,
   "metadata": {},
   "outputs": [],
   "source": [
    "df2_by_value = df2.set_index(\"L/C Price\")\n",
    "df2_by_value = df2_by_value.reset_index()\n",
    "df2_by_value.head()"
   ]
  },
  {
   "cell_type": "markdown",
   "metadata": {},
   "source": [
    "### Ploting on Gmap"
   ]
  },
  {
   "cell_type": "code",
   "execution_count": null,
   "metadata": {},
   "outputs": [],
   "source": [
    "df2_by_value[\"Address\"] = df2_by_value[\"St#\"].astype(str) + \" \" + df2_by_value[\"St Name\"].astype(str)\n",
    "df2_by_value['Lat'] = \"\"\n",
    "df2_by_value['Lng'] = \"\""
   ]
  },
  {
   "cell_type": "code",
   "execution_count": null,
   "metadata": {},
   "outputs": [],
   "source": [
    "params = {\"key\": api_key}\n",
    "for index, row in df2_by_value.iterrows():\n",
    "    base_url = \"https://maps.googleapis.com/maps/api/geocode/json\"\n",
    "    params['address'] = row['Address']\n",
    "    geo_data = requests.get(base_url, params).json()\n",
    "    try:\n",
    "        df2_by_value[index, \"Lat\"] = geo_data[\"results\"][0][\"geometry\"][\"location\"][\"lat\"]\n",
    "        df2_by_value[index, \"Lng\"] = geo_data[\"results\"][0][\"geometry\"][\"location\"][\"lng\"]\n",
    "    except IndexError:\n",
    "        print(f\"Row {index} cannot be found on gmap.\")\n",
    "        continue\n",
    "#     print(geo_data[\"results\"][0][\"geometry\"][\"location\"][\"lat\"])"
   ]
  },
  {
   "cell_type": "code",
   "execution_count": null,
   "metadata": {},
   "outputs": [],
   "source": [
    "df2_by_value.to_csv(\"Data/df2_by_value_with_latlng\")\n",
    "df2_by_value"
   ]
  },
  {
   "cell_type": "code",
   "execution_count": null,
   "metadata": {},
   "outputs": [],
   "source": [
    "df2_by_value.to_csv(\"Data/df2_latlng.csv\")"
   ]
  },
  {
   "cell_type": "code",
   "execution_count": null,
   "metadata": {},
   "outputs": [],
   "source": []
  }
 ],
 "metadata": {
  "kernelspec": {
   "display_name": "Python [default]",
   "language": "python",
   "name": "python3"
  },
  "language_info": {
   "codemirror_mode": {
    "name": "ipython",
    "version": 3
   },
   "file_extension": ".py",
   "mimetype": "text/x-python",
   "name": "python",
   "nbconvert_exporter": "python",
   "pygments_lexer": "ipython3",
   "version": "3.6.5"
  }
 },
 "nbformat": 4,
 "nbformat_minor": 2
}
