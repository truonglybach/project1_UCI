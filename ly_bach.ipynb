{
 "cells": [
  {
   "cell_type": "markdown",
   "metadata": {},
   "source": [
    "# California Housing\n",
    "## Overview\n",
    "\n",
    "When looking through datasets that contain over 20,000 instances of housing data, it would be very unlikely to not wonder about the insights that the data may possibly hold.\n",
    "\n",
    "One may ask:\n",
    "- What if you wanted to get rich off of real estate?\n",
    "- What if you wanted to predict the next housing bubble?\n",
    "- What if you could produce invaluable insights that could be the basis for further research?\n",
    "\n",
    "Although the first two out of the three speculations are unlikely to result from just reading into our two datasets, it would be a waste to not break these chunks of information apart and see what we can get, but before we delve deep into our datasets, we should consider the limitations of our data.\n",
    "\n",
    "1. The Kaggle dataset (\"housing.csv\") is an extracted (but not cleaned) version of the California 1990 Census and it holds median and total numerical values for housing features per district, separated by latitudinal and longitudinal coordinates. Kaggle is an online community platform for data enthusiasts. This dataset is a modified version from data that was gathered by associate professor, Luis Torgo, from the University of Porto, whom of which had collected the data from the California Census of 1990.\n",
    "\n",
    "2. The recent housing listings data (\"Total.csv\"), which were posted from up to a year since 19 September 2018, only shows listings that are posted by real estate brokers on an industry-accepted information dissemination system, the California Regional Multiple Listing Service (CRMLS); therefore, off-market listings <u>are not</u> represented in the data.\n",
    "\n",
    "Although there are some lingering questions that lay underneath our data (considering how it was obtained) and our resources are limited as to how accurately we can produce our analyses, we still are tasked to come to a data-driven conclusion to find out the answer to the following question:\n",
    "\n",
    "If we took the top and bottom five percentiles of houses in California during the 1990s, in terms of median house value, and compared them to houses of the same standing that have been listed for sale within the last year in the same market, would there be a statistical difference between the two groups?"
   ]
  },
  {
   "cell_type": "markdown",
   "metadata": {},
   "source": [
    "## Data Exploration and Cleanup"
   ]
  },
  {
   "cell_type": "markdown",
   "metadata": {},
   "source": [
    "### Setting up and getting our hands dirty with the data\n",
    "Before we can extract any meaningful and accurate analyses from our data, we must first make an attempt to understand all of its facets and not just search for whatever we want; that means, we must first 'get our hands dirty' with it. Although it can be irresistably fun just to mess around with our data, we should be aware that there is a more valuable incentive for doing so, which is described by the XY Problem.\n",
    "\n",
    "** For further reasoning, please refer to the following link to a discussion which details the XY Problem: https://meta.stackexchange.com/questions/66377/what-is-the-xy-problem*"
   ]
  },
  {
   "cell_type": "markdown",
   "metadata": {},
   "source": [
    "In order to be able to easily work with our data, we must first import the necessary dependencies and store our data."
   ]
  },
  {
   "cell_type": "code",
   "execution_count": 1,
   "metadata": {},
   "outputs": [],
   "source": [
    "# Import dependencies\n",
    "import requests\n",
    "import pandas as pd\n",
    "import numpy as np\n",
    "import matplotlib.pyplot as plt\n",
    "from pprint import pprint\n",
    "import gmplot\n",
    "import scipy as stats\n",
    "from config import api_key"
   ]
  },
  {
   "cell_type": "code",
   "execution_count": 2,
   "metadata": {},
   "outputs": [],
   "source": [
    "% matplotlib inline"
   ]
  },
  {
   "cell_type": "code",
   "execution_count": 3,
   "metadata": {},
   "outputs": [],
   "source": [
    "# Read/store data\n",
    "ca_1990 = pd.read_csv('Data/housing.csv')\n",
    "ca_current = pd.read_csv('Data/Total.csv')"
   ]
  },
  {
   "cell_type": "markdown",
   "metadata": {},
   "source": [
    "#### How many total instances are there?"
   ]
  },
  {
   "cell_type": "code",
   "execution_count": 4,
   "metadata": {},
   "outputs": [
    {
     "data": {
      "text/plain": [
       "longitude             20640\n",
       "latitude              20640\n",
       "housing_median_age    20640\n",
       "total_rooms           20640\n",
       "total_bedrooms        20433\n",
       "population            20640\n",
       "households            20640\n",
       "median_income         20640\n",
       "median_house_value    20640\n",
       "ocean_proximity       20640\n",
       "dtype: int64"
      ]
     },
     "execution_count": 4,
     "metadata": {},
     "output_type": "execute_result"
    }
   ],
   "source": [
    "ca_1990.count()"
   ]
  },
  {
   "cell_type": "markdown",
   "metadata": {},
   "source": [
    "#### Let's drop the rows with any missing values"
   ]
  },
  {
   "cell_type": "code",
   "execution_count": 5,
   "metadata": {},
   "outputs": [],
   "source": [
    "ca_1990 = ca_1990.dropna()"
   ]
  },
  {
   "cell_type": "code",
   "execution_count": 6,
   "metadata": {},
   "outputs": [
    {
     "data": {
      "text/plain": [
       "longitude             20433\n",
       "latitude              20433\n",
       "housing_median_age    20433\n",
       "total_rooms           20433\n",
       "total_bedrooms        20433\n",
       "population            20433\n",
       "households            20433\n",
       "median_income         20433\n",
       "median_house_value    20433\n",
       "ocean_proximity       20433\n",
       "dtype: int64"
      ]
     },
     "execution_count": 6,
     "metadata": {},
     "output_type": "execute_result"
    }
   ],
   "source": [
    "ca_1990.count()"
   ]
  },
  {
   "cell_type": "markdown",
   "metadata": {},
   "source": [
    "#### Reason for dropping values\n",
    "There is an approximate 1% difference when rows with any empty values are dropped and the data is derived as the median of each of its categories per the district; therefore, the values are negligible."
   ]
  },
  {
   "cell_type": "markdown",
   "metadata": {},
   "source": [
    "### California Housing (1990) Analysis"
   ]
  },
  {
   "cell_type": "markdown",
   "metadata": {},
   "source": [
    "#### The Search for Relationships\n",
    "We were looking at the several features that was listed within our data (such as the longitudinal and latitudinal coordinates of each district, the median ages of the houses, the total number of rooms, and so forth)  and made several charts in an attempt to draw insights which may be lying underneath, and they are as follows:"
   ]
  },
  {
   "cell_type": "markdown",
   "metadata": {},
   "source": [
    "#### Total Rooms per District vs Total Population District"
   ]
  },
  {
   "cell_type": "code",
   "execution_count": 7,
   "metadata": {},
   "outputs": [
    {
     "data": {
      "image/png": "[encoded data removed]",
      "text/plain": [
       "<Figure size 432x288 with 1 Axes>"
      ]
     },
     "metadata": {},
     "output_type": "display_data"
    }
   ],
   "source": [
    "bins = [0, 5000, 10000, 15000, 20000, 25000, 30000, 35000, 40000]\n",
    "group_names = [\"<5k\", \"5k-10k\", \"10k-15k\", \"15k-20k\", \"20k-25k\", \"25k-30k\", \"30k-35k\", \">35k\"]\n",
    "ca_1990[\"total_rooms_groups\"] = pd.cut(ca_1990['total_rooms'], bins, labels=group_names)\n",
    "\n",
    "plt.scatter(ca_1990['total_rooms_groups'], ca_1990['population'])\n",
    "plt.xlabel('Total Rooms')\n",
    "plt.ylabel('Population')\n",
    "plt.title('Total Rooms per District vs Population per District')\n",
    "plt.grid()\n",
    "plt.savefig(\"pngs/pop_vs_rooms_sub_groups.png\", dpi=300)\n",
    "plt.show()"
   ]
  },
  {
   "cell_type": "markdown",
   "metadata": {},
   "source": [
    "* *The chart above depicts the frequencies for several ranges of number of total rooms per the district and is set against the total population of a district.*\n",
    "* *It is intriguing to see that there is a concentration of districts that have zero to twenty thousand rooms and populations from zero to thirteen thousand.*"
   ]
  },
  {
   "cell_type": "markdown",
   "metadata": {},
   "source": [
    "#### Top Five Percent of Median House Values vs Total Population"
   ]
  },
  {
   "cell_type": "code",
   "execution_count": 8,
   "metadata": {
    "scrolled": false
   },
   "outputs": [
    {
     "data": {
      "text/html": [
       "<div>\n",
       "<style scoped>\n",
       "    .dataframe tbody tr th:only-of-type {\n",
       "        vertical-align: middle;\n",
       "    }\n",
       "\n",
       "    .dataframe tbody tr th {\n",
       "        vertical-align: top;\n",
       "    }\n",
       "\n",
       "    .dataframe thead th {\n",
       "        text-align: right;\n",
       "    }\n",
       "</style>\n",
       "<table border=\"1\" class=\"dataframe\">\n",
       "  <thead>\n",
       "    <tr style=\"text-align: right;\">\n",
       "      <th></th>\n",
       "      <th>longitude</th>\n",
       "      <th>latitude</th>\n",
       "      <th>housing_median_age</th>\n",
       "      <th>total_rooms</th>\n",
       "      <th>total_bedrooms</th>\n",
       "      <th>population</th>\n",
       "      <th>households</th>\n",
       "      <th>median_income</th>\n",
       "      <th>median_house_value</th>\n",
       "      <th>ocean_proximity</th>\n",
       "      <th>total_rooms_groups</th>\n",
       "    </tr>\n",
       "  </thead>\n",
       "  <tbody>\n",
       "    <tr>\n",
       "      <th>512</th>\n",
       "      <td>-122.23</td>\n",
       "      <td>37.82</td>\n",
       "      <td>52</td>\n",
       "      <td>3242</td>\n",
       "      <td>366.0</td>\n",
       "      <td>1001</td>\n",
       "      <td>352</td>\n",
       "      <td>12.2138</td>\n",
       "      <td>500001</td>\n",
       "      <td>NEAR BAY</td>\n",
       "      <td>&lt;5k</td>\n",
       "    </tr>\n",
       "    <tr>\n",
       "      <th>494</th>\n",
       "      <td>-122.24</td>\n",
       "      <td>37.85</td>\n",
       "      <td>52</td>\n",
       "      <td>3726</td>\n",
       "      <td>474.0</td>\n",
       "      <td>1366</td>\n",
       "      <td>496</td>\n",
       "      <td>9.3959</td>\n",
       "      <td>500001</td>\n",
       "      <td>NEAR BAY</td>\n",
       "      <td>&lt;5k</td>\n",
       "    </tr>\n",
       "    <tr>\n",
       "      <th>459</th>\n",
       "      <td>-122.25</td>\n",
       "      <td>37.87</td>\n",
       "      <td>52</td>\n",
       "      <td>609</td>\n",
       "      <td>236.0</td>\n",
       "      <td>1349</td>\n",
       "      <td>250</td>\n",
       "      <td>1.1696</td>\n",
       "      <td>500001</td>\n",
       "      <td>NEAR BAY</td>\n",
       "      <td>&lt;5k</td>\n",
       "    </tr>\n",
       "    <tr>\n",
       "      <th>955</th>\n",
       "      <td>-121.93</td>\n",
       "      <td>37.66</td>\n",
       "      <td>24</td>\n",
       "      <td>3166</td>\n",
       "      <td>424.0</td>\n",
       "      <td>1081</td>\n",
       "      <td>400</td>\n",
       "      <td>8.3337</td>\n",
       "      <td>500001</td>\n",
       "      <td>&lt;1H OCEAN</td>\n",
       "      <td>&lt;5k</td>\n",
       "    </tr>\n",
       "    <tr>\n",
       "      <th>923</th>\n",
       "      <td>-121.89</td>\n",
       "      <td>37.49</td>\n",
       "      <td>9</td>\n",
       "      <td>4909</td>\n",
       "      <td>577.0</td>\n",
       "      <td>1981</td>\n",
       "      <td>591</td>\n",
       "      <td>9.7194</td>\n",
       "      <td>500001</td>\n",
       "      <td>&lt;1H OCEAN</td>\n",
       "      <td>&lt;5k</td>\n",
       "    </tr>\n",
       "  </tbody>\n",
       "</table>\n",
       "</div>"
      ],
      "text/plain": [
       "     longitude  latitude  housing_median_age  total_rooms  total_bedrooms  \\\n",
       "512    -122.23     37.82                  52         3242           366.0   \n",
       "494    -122.24     37.85                  52         3726           474.0   \n",
       "459    -122.25     37.87                  52          609           236.0   \n",
       "955    -121.93     37.66                  24         3166           424.0   \n",
       "923    -121.89     37.49                   9         4909           577.0   \n",
       "\n",
       "     population  households  median_income  median_house_value  \\\n",
       "512        1001         352        12.2138              500001   \n",
       "494        1366         496         9.3959              500001   \n",
       "459        1349         250         1.1696              500001   \n",
       "955        1081         400         8.3337              500001   \n",
       "923        1981         591         9.7194              500001   \n",
       "\n",
       "    ocean_proximity total_rooms_groups  \n",
       "512        NEAR BAY                <5k  \n",
       "494        NEAR BAY                <5k  \n",
       "459        NEAR BAY                <5k  \n",
       "955       <1H OCEAN                <5k  \n",
       "923       <1H OCEAN                <5k  "
      ]
     },
     "execution_count": 8,
     "metadata": {},
     "output_type": "execute_result"
    }
   ],
   "source": [
    "# Slice the top 5%\n",
    "top5 = ca_1990.iloc[:round(len(ca_1990['median_house_value'])*0.05), :].sort_values('median_house_value', ascending=False)\n",
    "top5.head()"
   ]
  },
  {
   "cell_type": "code",
   "execution_count": 9,
   "metadata": {},
   "outputs": [
    {
     "data": {
      "text/html": [
       "<div>\n",
       "<style scoped>\n",
       "    .dataframe tbody tr th:only-of-type {\n",
       "        vertical-align: middle;\n",
       "    }\n",
       "\n",
       "    .dataframe tbody tr th {\n",
       "        vertical-align: top;\n",
       "    }\n",
       "\n",
       "    .dataframe thead th {\n",
       "        text-align: right;\n",
       "    }\n",
       "</style>\n",
       "<table border=\"1\" class=\"dataframe\">\n",
       "  <thead>\n",
       "    <tr style=\"text-align: right;\">\n",
       "      <th></th>\n",
       "      <th>longitude</th>\n",
       "      <th>latitude</th>\n",
       "      <th>housing_median_age</th>\n",
       "      <th>total_rooms</th>\n",
       "      <th>total_bedrooms</th>\n",
       "      <th>population</th>\n",
       "      <th>households</th>\n",
       "      <th>median_income</th>\n",
       "      <th>median_house_value</th>\n",
       "      <th>ocean_proximity</th>\n",
       "      <th>total_rooms_groups</th>\n",
       "      <th>population_groups</th>\n",
       "    </tr>\n",
       "  </thead>\n",
       "  <tbody>\n",
       "    <tr>\n",
       "      <th>512</th>\n",
       "      <td>-122.23</td>\n",
       "      <td>37.82</td>\n",
       "      <td>52</td>\n",
       "      <td>3242</td>\n",
       "      <td>366.0</td>\n",
       "      <td>1001</td>\n",
       "      <td>352</td>\n",
       "      <td>12.2138</td>\n",
       "      <td>500001</td>\n",
       "      <td>NEAR BAY</td>\n",
       "      <td>&lt;5k</td>\n",
       "      <td>1k-2k</td>\n",
       "    </tr>\n",
       "    <tr>\n",
       "      <th>494</th>\n",
       "      <td>-122.24</td>\n",
       "      <td>37.85</td>\n",
       "      <td>52</td>\n",
       "      <td>3726</td>\n",
       "      <td>474.0</td>\n",
       "      <td>1366</td>\n",
       "      <td>496</td>\n",
       "      <td>9.3959</td>\n",
       "      <td>500001</td>\n",
       "      <td>NEAR BAY</td>\n",
       "      <td>&lt;5k</td>\n",
       "      <td>1k-2k</td>\n",
       "    </tr>\n",
       "    <tr>\n",
       "      <th>459</th>\n",
       "      <td>-122.25</td>\n",
       "      <td>37.87</td>\n",
       "      <td>52</td>\n",
       "      <td>609</td>\n",
       "      <td>236.0</td>\n",
       "      <td>1349</td>\n",
       "      <td>250</td>\n",
       "      <td>1.1696</td>\n",
       "      <td>500001</td>\n",
       "      <td>NEAR BAY</td>\n",
       "      <td>&lt;5k</td>\n",
       "      <td>1k-2k</td>\n",
       "    </tr>\n",
       "    <tr>\n",
       "      <th>955</th>\n",
       "      <td>-121.93</td>\n",
       "      <td>37.66</td>\n",
       "      <td>24</td>\n",
       "      <td>3166</td>\n",
       "      <td>424.0</td>\n",
       "      <td>1081</td>\n",
       "      <td>400</td>\n",
       "      <td>8.3337</td>\n",
       "      <td>500001</td>\n",
       "      <td>&lt;1H OCEAN</td>\n",
       "      <td>&lt;5k</td>\n",
       "      <td>1k-2k</td>\n",
       "    </tr>\n",
       "    <tr>\n",
       "      <th>923</th>\n",
       "      <td>-121.89</td>\n",
       "      <td>37.49</td>\n",
       "      <td>9</td>\n",
       "      <td>4909</td>\n",
       "      <td>577.0</td>\n",
       "      <td>1981</td>\n",
       "      <td>591</td>\n",
       "      <td>9.7194</td>\n",
       "      <td>500001</td>\n",
       "      <td>&lt;1H OCEAN</td>\n",
       "      <td>&lt;5k</td>\n",
       "      <td>1k-2k</td>\n",
       "    </tr>\n",
       "  </tbody>\n",
       "</table>\n",
       "</div>"
      ],
      "text/plain": [
       "     longitude  latitude  housing_median_age  total_rooms  total_bedrooms  \\\n",
       "512    -122.23     37.82                  52         3242           366.0   \n",
       "494    -122.24     37.85                  52         3726           474.0   \n",
       "459    -122.25     37.87                  52          609           236.0   \n",
       "955    -121.93     37.66                  24         3166           424.0   \n",
       "923    -121.89     37.49                   9         4909           577.0   \n",
       "\n",
       "     population  households  median_income  median_house_value  \\\n",
       "512        1001         352        12.2138              500001   \n",
       "494        1366         496         9.3959              500001   \n",
       "459        1349         250         1.1696              500001   \n",
       "955        1081         400         8.3337              500001   \n",
       "923        1981         591         9.7194              500001   \n",
       "\n",
       "    ocean_proximity total_rooms_groups population_groups  \n",
       "512        NEAR BAY                <5k             1k-2k  \n",
       "494        NEAR BAY                <5k             1k-2k  \n",
       "459        NEAR BAY                <5k             1k-2k  \n",
       "955       <1H OCEAN                <5k             1k-2k  \n",
       "923       <1H OCEAN                <5k             1k-2k  "
      ]
     },
     "execution_count": 9,
     "metadata": {},
     "output_type": "execute_result"
    }
   ],
   "source": [
    "bins = [0, 1000, 2000, 3000, 4000, 5000, 6000, 7000, 13000]\n",
    "group_names = [\"<1k\", \"1k-2k\", \"2k-3k\", \"3k-4k\", \"4k-5k\", \"5k-6k\", \"6k-7k\", \">7k\"]\n",
    "top5['population_groups'] = pd.cut(top5['population'], bins, labels=group_names)\n",
    "top5.head()"
   ]
  },
  {
   "cell_type": "code",
   "execution_count": 10,
   "metadata": {},
   "outputs": [
    {
     "data": {
      "image/png": "[encoded data removed]",
      "text/plain": [
       "<Figure size 432x288 with 1 Axes>"
      ]
     },
     "metadata": {},
     "output_type": "display_data"
    }
   ],
   "source": [
    "plt.scatter(top5['median_house_value'], top5['population_groups'], c='r')\n",
    "plt.xlabel('House Value')\n",
    "plt.ylabel('Population')\n",
    "plt.title('Total Population vs Median House Value')\n",
    "plt.grid()\n",
    "plt.savefig(\"pngs/Top5_PHV.png\", dpi=300)\n",
    "plt.show()"
   ]
  },
  {
   "cell_type": "markdown",
   "metadata": {},
   "source": [
    "* *From the plot above, we can see that there is a general concentration in districts with populations ranging from zero to two thousand people per district, in respect to houses that rank in the top five percentile in terms of median house value.*\n",
    "* *We can infer from this data that districts with this general range of population is ubiquitous and non-dependent of median house value.*\n",
    "* *Intriguingly, we can see that houses that are worth approximately five hundred thousand dollars can vary from small to large numbers of population.*"
   ]
  },
  {
   "cell_type": "markdown",
   "metadata": {},
   "source": [
    "#### Bottom Five Percent of Median House Values vs Total Population"
   ]
  },
  {
   "cell_type": "code",
   "execution_count": 11,
   "metadata": {
    "scrolled": false
   },
   "outputs": [
    {
     "data": {
      "text/html": [
       "<div>\n",
       "<style scoped>\n",
       "    .dataframe tbody tr th:only-of-type {\n",
       "        vertical-align: middle;\n",
       "    }\n",
       "\n",
       "    .dataframe tbody tr th {\n",
       "        vertical-align: top;\n",
       "    }\n",
       "\n",
       "    .dataframe thead th {\n",
       "        text-align: right;\n",
       "    }\n",
       "</style>\n",
       "<table border=\"1\" class=\"dataframe\">\n",
       "  <thead>\n",
       "    <tr style=\"text-align: right;\">\n",
       "      <th></th>\n",
       "      <th>longitude</th>\n",
       "      <th>latitude</th>\n",
       "      <th>housing_median_age</th>\n",
       "      <th>total_rooms</th>\n",
       "      <th>total_bedrooms</th>\n",
       "      <th>population</th>\n",
       "      <th>households</th>\n",
       "      <th>median_income</th>\n",
       "      <th>median_house_value</th>\n",
       "      <th>ocean_proximity</th>\n",
       "      <th>total_rooms_groups</th>\n",
       "    </tr>\n",
       "  </thead>\n",
       "  <tbody>\n",
       "    <tr>\n",
       "      <th>20325</th>\n",
       "      <td>-119.04</td>\n",
       "      <td>34.28</td>\n",
       "      <td>21</td>\n",
       "      <td>1856</td>\n",
       "      <td>276.0</td>\n",
       "      <td>863</td>\n",
       "      <td>255</td>\n",
       "      <td>4.5833</td>\n",
       "      <td>500001</td>\n",
       "      <td>&lt;1H OCEAN</td>\n",
       "      <td>&lt;5k</td>\n",
       "    </tr>\n",
       "    <tr>\n",
       "      <th>20436</th>\n",
       "      <td>-118.69</td>\n",
       "      <td>34.21</td>\n",
       "      <td>10</td>\n",
       "      <td>3663</td>\n",
       "      <td>409.0</td>\n",
       "      <td>1179</td>\n",
       "      <td>371</td>\n",
       "      <td>12.5420</td>\n",
       "      <td>500001</td>\n",
       "      <td>&lt;1H OCEAN</td>\n",
       "      <td>&lt;5k</td>\n",
       "    </tr>\n",
       "    <tr>\n",
       "      <th>20233</th>\n",
       "      <td>-119.29</td>\n",
       "      <td>34.24</td>\n",
       "      <td>27</td>\n",
       "      <td>4742</td>\n",
       "      <td>775.0</td>\n",
       "      <td>1682</td>\n",
       "      <td>696</td>\n",
       "      <td>6.1940</td>\n",
       "      <td>500001</td>\n",
       "      <td>NEAR OCEAN</td>\n",
       "      <td>&lt;5k</td>\n",
       "    </tr>\n",
       "    <tr>\n",
       "      <th>20427</th>\n",
       "      <td>-118.80</td>\n",
       "      <td>34.19</td>\n",
       "      <td>4</td>\n",
       "      <td>15572</td>\n",
       "      <td>2222.0</td>\n",
       "      <td>5495</td>\n",
       "      <td>2152</td>\n",
       "      <td>8.6499</td>\n",
       "      <td>500001</td>\n",
       "      <td>&lt;1H OCEAN</td>\n",
       "      <td>15k-20k</td>\n",
       "    </tr>\n",
       "    <tr>\n",
       "      <th>20180</th>\n",
       "      <td>-119.39</td>\n",
       "      <td>34.32</td>\n",
       "      <td>19</td>\n",
       "      <td>3238</td>\n",
       "      <td>629.0</td>\n",
       "      <td>1195</td>\n",
       "      <td>443</td>\n",
       "      <td>4.8472</td>\n",
       "      <td>500001</td>\n",
       "      <td>NEAR OCEAN</td>\n",
       "      <td>&lt;5k</td>\n",
       "    </tr>\n",
       "  </tbody>\n",
       "</table>\n",
       "</div>"
      ],
      "text/plain": [
       "       longitude  latitude  housing_median_age  total_rooms  total_bedrooms  \\\n",
       "20325    -119.04     34.28                  21         1856           276.0   \n",
       "20436    -118.69     34.21                  10         3663           409.0   \n",
       "20233    -119.29     34.24                  27         4742           775.0   \n",
       "20427    -118.80     34.19                   4        15572          2222.0   \n",
       "20180    -119.39     34.32                  19         3238           629.0   \n",
       "\n",
       "       population  households  median_income  median_house_value  \\\n",
       "20325         863         255         4.5833              500001   \n",
       "20436        1179         371        12.5420              500001   \n",
       "20233        1682         696         6.1940              500001   \n",
       "20427        5495        2152         8.6499              500001   \n",
       "20180        1195         443         4.8472              500001   \n",
       "\n",
       "      ocean_proximity total_rooms_groups  \n",
       "20325       <1H OCEAN                <5k  \n",
       "20436       <1H OCEAN                <5k  \n",
       "20233      NEAR OCEAN                <5k  \n",
       "20427       <1H OCEAN            15k-20k  \n",
       "20180      NEAR OCEAN                <5k  "
      ]
     },
     "execution_count": 11,
     "metadata": {},
     "output_type": "execute_result"
    }
   ],
   "source": [
    "# Slice the bottom 5%\n",
    "bottom5 = ca_1990.iloc[round(len(ca_1990['median_house_value'])*0.95): len(ca_1990['median_house_value']),:].sort_values('median_house_value', ascending=False)\n",
    "bottom5.head()"
   ]
  },
  {
   "cell_type": "code",
   "execution_count": 12,
   "metadata": {},
   "outputs": [
    {
     "data": {
      "image/png": "[encoded data removed]",
      "text/plain": [
       "<Figure size 432x288 with 1 Axes>"
      ]
     },
     "metadata": {},
     "output_type": "display_data"
    }
   ],
   "source": [
    "bins = [0, 3000, 6000, 9000, 12000, 15000, 18000]\n",
    "group_names = [\"<3k\", \"3k-6k\", \"6k-9k\", \"9k-12k\", \"12k-15k\", \">15k\"]\n",
    "bottom5[\"population_groups\"] = pd.cut(bottom5['population'], bins, labels=group_names)\n",
    "plt.scatter(bottom5['median_house_value'], bottom5['population_groups'], c='g')\n",
    "plt.xlabel('House Value')\n",
    "plt.ylabel('Population')\n",
    "plt.title('Total Population vs Median House Value')\n",
    "plt.grid()\n",
    "plt.savefig('pngs/Bottom5_PHV.png', dpi=300, bbox_inches='tight')\n",
    "plt.show()"
   ]
  },
  {
   "cell_type": "markdown",
   "metadata": {},
   "source": [
    "* *From the plot above, we can see that there is a general concentration in districts with populations ranging from zero to three thousand people per district and from three to six thousand people per district, in respect to houses that rank in the bottom five percentile in terms of median house value.*\n",
    "* *We can infer from this data that districts with these general ranges of populations are ubiquitous and non-dependent of median house value.*"
   ]
  },
  {
   "cell_type": "markdown",
   "metadata": {},
   "source": [
    "#### Ocean Proximity"
   ]
  },
  {
   "cell_type": "code",
   "execution_count": 13,
   "metadata": {
    "scrolled": true
   },
   "outputs": [
    {
     "data": {
      "text/html": [
       "<div>\n",
       "<style scoped>\n",
       "    .dataframe tbody tr th:only-of-type {\n",
       "        vertical-align: middle;\n",
       "    }\n",
       "\n",
       "    .dataframe tbody tr th {\n",
       "        vertical-align: top;\n",
       "    }\n",
       "\n",
       "    .dataframe thead th {\n",
       "        text-align: right;\n",
       "    }\n",
       "</style>\n",
       "<table border=\"1\" class=\"dataframe\">\n",
       "  <thead>\n",
       "    <tr style=\"text-align: right;\">\n",
       "      <th></th>\n",
       "      <th>longitude</th>\n",
       "      <th>latitude</th>\n",
       "      <th>housing_median_age</th>\n",
       "      <th>total_rooms</th>\n",
       "      <th>total_bedrooms</th>\n",
       "      <th>population</th>\n",
       "      <th>households</th>\n",
       "      <th>median_income</th>\n",
       "      <th>median_house_value</th>\n",
       "      <th>ocean_proximity</th>\n",
       "      <th>total_rooms_groups</th>\n",
       "    </tr>\n",
       "  </thead>\n",
       "  <tbody>\n",
       "    <tr>\n",
       "      <th>0</th>\n",
       "      <td>-118.42</td>\n",
       "      <td>34.08</td>\n",
       "      <td>48</td>\n",
       "      <td>2413</td>\n",
       "      <td>261.0</td>\n",
       "      <td>770</td>\n",
       "      <td>248</td>\n",
       "      <td>15.0001</td>\n",
       "      <td>500001</td>\n",
       "      <td>&lt;1H OCEAN</td>\n",
       "      <td>&lt;5k</td>\n",
       "    </tr>\n",
       "    <tr>\n",
       "      <th>1</th>\n",
       "      <td>-117.66</td>\n",
       "      <td>33.48</td>\n",
       "      <td>22</td>\n",
       "      <td>809</td>\n",
       "      <td>180.0</td>\n",
       "      <td>334</td>\n",
       "      <td>157</td>\n",
       "      <td>2.3846</td>\n",
       "      <td>500001</td>\n",
       "      <td>&lt;1H OCEAN</td>\n",
       "      <td>&lt;5k</td>\n",
       "    </tr>\n",
       "    <tr>\n",
       "      <th>2</th>\n",
       "      <td>-118.50</td>\n",
       "      <td>33.97</td>\n",
       "      <td>29</td>\n",
       "      <td>2737</td>\n",
       "      <td>808.0</td>\n",
       "      <td>1157</td>\n",
       "      <td>696</td>\n",
       "      <td>5.1280</td>\n",
       "      <td>500001</td>\n",
       "      <td>&lt;1H OCEAN</td>\n",
       "      <td>&lt;5k</td>\n",
       "    </tr>\n",
       "    <tr>\n",
       "      <th>3</th>\n",
       "      <td>-122.47</td>\n",
       "      <td>37.73</td>\n",
       "      <td>50</td>\n",
       "      <td>1653</td>\n",
       "      <td>252.0</td>\n",
       "      <td>641</td>\n",
       "      <td>224</td>\n",
       "      <td>10.6605</td>\n",
       "      <td>500001</td>\n",
       "      <td>NEAR OCEAN</td>\n",
       "      <td>&lt;5k</td>\n",
       "    </tr>\n",
       "    <tr>\n",
       "      <th>4</th>\n",
       "      <td>-122.47</td>\n",
       "      <td>37.73</td>\n",
       "      <td>52</td>\n",
       "      <td>2151</td>\n",
       "      <td>280.0</td>\n",
       "      <td>762</td>\n",
       "      <td>274</td>\n",
       "      <td>10.7309</td>\n",
       "      <td>500001</td>\n",
       "      <td>NEAR OCEAN</td>\n",
       "      <td>&lt;5k</td>\n",
       "    </tr>\n",
       "  </tbody>\n",
       "</table>\n",
       "</div>"
      ],
      "text/plain": [
       "   longitude  latitude  housing_median_age  total_rooms  total_bedrooms  \\\n",
       "0    -118.42     34.08                  48         2413           261.0   \n",
       "1    -117.66     33.48                  22          809           180.0   \n",
       "2    -118.50     33.97                  29         2737           808.0   \n",
       "3    -122.47     37.73                  50         1653           252.0   \n",
       "4    -122.47     37.73                  52         2151           280.0   \n",
       "\n",
       "   population  households  median_income  median_house_value ocean_proximity  \\\n",
       "0         770         248        15.0001              500001       <1H OCEAN   \n",
       "1         334         157         2.3846              500001       <1H OCEAN   \n",
       "2        1157         696         5.1280              500001       <1H OCEAN   \n",
       "3         641         224        10.6605              500001      NEAR OCEAN   \n",
       "4         762         274        10.7309              500001      NEAR OCEAN   \n",
       "\n",
       "  total_rooms_groups  \n",
       "0                <5k  \n",
       "1                <5k  \n",
       "2                <5k  \n",
       "3                <5k  \n",
       "4                <5k  "
      ]
     },
     "execution_count": 13,
     "metadata": {},
     "output_type": "execute_result"
    }
   ],
   "source": [
    "# Sort data by house value\n",
    "ca_1990 = ca_1990.sort_values('median_house_value', ascending=False).reset_index(drop=True)\n",
    "ca_1990.head()"
   ]
  },
  {
   "cell_type": "markdown",
   "metadata": {},
   "source": [
    "#### Ocean Proximity vs Count of Houses"
   ]
  },
  {
   "cell_type": "code",
   "execution_count": 14,
   "metadata": {
    "scrolled": true
   },
   "outputs": [
    {
     "data": {
      "image/png": "[encoded data removed]",
      "text/plain": [
       "<Figure size 432x288 with 1 Axes>"
      ]
     },
     "metadata": {},
     "output_type": "display_data"
    }
   ],
   "source": [
    "x_axis_op = [\"<1H OCEAN\", \"INLAND\", \"ISLAND\", \"NEAR BAY\", \"NEAR OCEAN\"]\n",
    "y_axis_op = ca_1990.groupby(\"ocean_proximity\").count().rename(columns={\"longitude\": \"count_of_houses\"})[\"count_of_houses\"]\n",
    "plt.bar(x_axis_op, y_axis_op, alpha=0.5, align='center')\n",
    "plt.xlabel(\"Ocean Proximity\")\n",
    "plt.ylabel(\"Count of Houses\")\n",
    "op_bar_chart = plt.title(\"Total Number of Houses in CA per OP Category\")\n",
    "plt.savefig('pngs/op_vs_count_of_houses.png', dpi=300)\n",
    "plt.show()"
   ]
  },
  {
   "cell_type": "markdown",
   "metadata": {},
   "source": [
    "* *The bar chart above depicts the total count of houses per each category.*\n",
    "* *We can see that most of the houses in California are either less than one-hour away from the ocean or are inland.*\n",
    "* *The chart also communicates that the majority of Californians lived less than one hour from the ocean during the 1990s.*"
   ]
  },
  {
   "cell_type": "code",
   "execution_count": 15,
   "metadata": {},
   "outputs": [
    {
     "data": {
      "image/png": "[encoded data removed]",
      "text/plain": [
       "<Figure size 432x288 with 1 Axes>"
      ]
     },
     "metadata": {},
     "output_type": "display_data"
    }
   ],
   "source": [
    "x_axis_op = [\"<1H OCEAN\", \"INLAND\", \"NEAR BAY\"]\n",
    "y_axis_op = top5.groupby(\"ocean_proximity\").count().rename(columns={\"longitude\": \"count_of_houses\"})[\"count_of_houses\"]\n",
    "plt.bar(x_axis_op, y_axis_op, color='b', alpha=0.5, align='center')\n",
    "plt.xlabel(\"Ocean Proximity\")\n",
    "plt.ylabel(\"Count of Houses\")\n",
    "op_bar_chart = plt.title(\"Top Five Percent\")\n",
    "plt.savefig(\"pngs/top_five_op_vs_COH.png\", dpi=300)\n",
    "plt.show()"
   ]
  },
  {
   "cell_type": "markdown",
   "metadata": {},
   "source": [
    "#### Top 5 Percent Ocean Proximity vs Count of Houses"
   ]
  },
  {
   "cell_type": "markdown",
   "metadata": {},
   "source": [
    "* *The chart above shows the total count of houses per ocean proximity category for houses in the top five percent, in terms of median house value.*\n",
    "* *The majority of these houses are in closer proximity to some body of water than houses that are inland.*"
   ]
  },
  {
   "cell_type": "markdown",
   "metadata": {},
   "source": [
    "#### Bottom 5 Percent Ocean Proximity vs Count of Houses"
   ]
  },
  {
   "cell_type": "code",
   "execution_count": 16,
   "metadata": {},
   "outputs": [
    {
     "data": {
      "image/png": "[encoded data removed]",
      "text/plain": [
       "<Figure size 432x288 with 1 Axes>"
      ]
     },
     "metadata": {},
     "output_type": "display_data"
    }
   ],
   "source": [
    "x_axis_op = [\"<1H OCEAN\", \"INLAND\", \"NEAR OCEAN\"]\n",
    "y_axis_op = bottom5.groupby(\"ocean_proximity\").count().rename(columns={\"longitude\": \"count_of_houses\"})[\"count_of_houses\"]\n",
    "plt.bar(x_axis_op, y_axis_op, color='g', alpha=0.5, align='center')\n",
    "plt.xlabel(\"Ocean Proximity\")\n",
    "plt.ylabel(\"Count of Houses\")\n",
    "op_bar_chart = plt.title(\"Bottom Five Percent\")\n",
    "plt.savefig(\"pngs/bottom_five_op_vs_COH.png\", dpi=300)\n",
    "plt.show()"
   ]
  },
  {
   "cell_type": "markdown",
   "metadata": {},
   "source": [
    "* *The chart above depicts the total count of houses per ocean proximity category for houses in the bottom five percent, in terms of median house value.*\n",
    "* *The majority of these houses are inland; furthest from any body of water in comparison to their counterparts.*\n"
   ]
  },
  {
   "cell_type": "markdown",
   "metadata": {},
   "source": [
    "#### Top Five Ocean Proximity Average Median Price"
   ]
  },
  {
   "cell_type": "code",
   "execution_count": 17,
   "metadata": {},
   "outputs": [
    {
     "data": {
      "text/html": [
       "<div>\n",
       "<style scoped>\n",
       "    .dataframe tbody tr th:only-of-type {\n",
       "        vertical-align: middle;\n",
       "    }\n",
       "\n",
       "    .dataframe tbody tr th {\n",
       "        vertical-align: top;\n",
       "    }\n",
       "\n",
       "    .dataframe thead th {\n",
       "        text-align: right;\n",
       "    }\n",
       "</style>\n",
       "<table border=\"1\" class=\"dataframe\">\n",
       "  <thead>\n",
       "    <tr style=\"text-align: right;\">\n",
       "      <th></th>\n",
       "      <th>Average Median Price</th>\n",
       "    </tr>\n",
       "    <tr>\n",
       "      <th>ocean_proximity</th>\n",
       "      <th></th>\n",
       "    </tr>\n",
       "  </thead>\n",
       "  <tbody>\n",
       "    <tr>\n",
       "      <th>&lt;1H OCEAN</th>\n",
       "      <td>$269,151.34</td>\n",
       "    </tr>\n",
       "    <tr>\n",
       "      <th>INLAND</th>\n",
       "      <td>$244,635.00</td>\n",
       "    </tr>\n",
       "    <tr>\n",
       "      <th>NEAR BAY</th>\n",
       "      <td>$201,589.63</td>\n",
       "    </tr>\n",
       "  </tbody>\n",
       "</table>\n",
       "</div>"
      ],
      "text/plain": [
       "                Average Median Price\n",
       "ocean_proximity                     \n",
       "<1H OCEAN                $269,151.34\n",
       "INLAND                   $244,635.00\n",
       "NEAR BAY                 $201,589.63"
      ]
     },
     "execution_count": 17,
     "metadata": {},
     "output_type": "execute_result"
    }
   ],
   "source": [
    "op_mean_house_value_top = top5.groupby(\"ocean_proximity\")[\"median_house_value\"].mean().round(2)\n",
    "op_mean_df_top = pd.DataFrame(op_mean_house_value_top)\n",
    "op_mean_df_top = op_mean_df_top.rename(columns={\"median_house_value\":\"Average Median Price\"})\n",
    "op_mean_df_top['Average Median Price'] = op_mean_df_top['Average Median Price'].map('${:,.2f}'.format)\n",
    "op_mean_df_top"
   ]
  },
  {
   "cell_type": "markdown",
   "metadata": {},
   "source": [
    "* *Although we expect that being located closer to bodies of water usually translates to a higher price per house, the averages of the median values for our top five percent of houses in California have similar prices.*\n",
    "* *Intriguingly, the inland category has an average value that is higher than any of the other categories, which are all nearer to some body of water.*"
   ]
  },
  {
   "cell_type": "markdown",
   "metadata": {},
   "source": [
    "#### Bottom Five Ocean Proximity Average Median Price"
   ]
  },
  {
   "cell_type": "code",
   "execution_count": 18,
   "metadata": {},
   "outputs": [
    {
     "data": {
      "text/html": [
       "<div>\n",
       "<style scoped>\n",
       "    .dataframe tbody tr th:only-of-type {\n",
       "        vertical-align: middle;\n",
       "    }\n",
       "\n",
       "    .dataframe tbody tr th {\n",
       "        vertical-align: top;\n",
       "    }\n",
       "\n",
       "    .dataframe thead th {\n",
       "        text-align: right;\n",
       "    }\n",
       "</style>\n",
       "<table border=\"1\" class=\"dataframe\">\n",
       "  <thead>\n",
       "    <tr style=\"text-align: right;\">\n",
       "      <th></th>\n",
       "      <th>Average Median Price</th>\n",
       "    </tr>\n",
       "    <tr>\n",
       "      <th>ocean_proximity</th>\n",
       "      <th></th>\n",
       "    </tr>\n",
       "  </thead>\n",
       "  <tbody>\n",
       "    <tr>\n",
       "      <th>&lt;1H OCEAN</th>\n",
       "      <td>$269,127.58</td>\n",
       "    </tr>\n",
       "    <tr>\n",
       "      <th>INLAND</th>\n",
       "      <td>$96,061.02</td>\n",
       "    </tr>\n",
       "    <tr>\n",
       "      <th>NEAR OCEAN</th>\n",
       "      <td>$239,029.87</td>\n",
       "    </tr>\n",
       "  </tbody>\n",
       "</table>\n",
       "</div>"
      ],
      "text/plain": [
       "                Average Median Price\n",
       "ocean_proximity                     \n",
       "<1H OCEAN                $269,127.58\n",
       "INLAND                    $96,061.02\n",
       "NEAR OCEAN               $239,029.87"
      ]
     },
     "execution_count": 18,
     "metadata": {},
     "output_type": "execute_result"
    }
   ],
   "source": [
    "op_mean_house_value_bottom = bottom5.groupby(\"ocean_proximity\")[\"median_house_value\"].mean().round(2)\n",
    "op_mean_df_bottom = pd.DataFrame(op_mean_house_value_bottom)\n",
    "op_mean_df_bottom = op_mean_df_bottom.rename(columns={\"median_house_value\":\"Average Median Price\"})\n",
    "op_mean_df_bottom['Average Median Price'] = op_mean_df_bottom['Average Median Price'].map('${:,.2f}'.format)\n",
    "op_mean_df_bottom"
   ]
  },
  {
   "cell_type": "markdown",
   "metadata": {},
   "source": [
    "* *Again, we expect that being located closer to bodies of water would translate to a higher price per house, the averages of the median values for our bottom five percent of houses in California deviates from our assumptions.*\n",
    "* *The same surprise is evident in this data, when compared to its opposite counterpart.*"
   ]
  },
  {
   "cell_type": "markdown",
   "metadata": {},
   "source": [
    "### California Housing (2018) Analysis"
   ]
  },
  {
   "cell_type": "code",
   "execution_count": 19,
   "metadata": {},
   "outputs": [
    {
     "data": {
      "text/html": [
       "<div>\n",
       "<style scoped>\n",
       "    .dataframe tbody tr th:only-of-type {\n",
       "        vertical-align: middle;\n",
       "    }\n",
       "\n",
       "    .dataframe tbody tr th {\n",
       "        vertical-align: top;\n",
       "    }\n",
       "\n",
       "    .dataframe thead th {\n",
       "        text-align: right;\n",
       "    }\n",
       "</style>\n",
       "<table border=\"1\" class=\"dataframe\">\n",
       "  <thead>\n",
       "    <tr style=\"text-align: right;\">\n",
       "      <th></th>\n",
       "      <th>Unnamed: 0</th>\n",
       "      <th>Listing ID</th>\n",
       "      <th>S</th>\n",
       "      <th>Sub Type</th>\n",
       "      <th>St#</th>\n",
       "      <th>St Name</th>\n",
       "      <th>City</th>\n",
       "      <th>MLS Area</th>\n",
       "      <th>SLC</th>\n",
       "      <th>L/C Price</th>\n",
       "      <th>...</th>\n",
       "      <th>Br/Ba</th>\n",
       "      <th>Sqft</th>\n",
       "      <th>YrBuilt</th>\n",
       "      <th>Ac/LSqft</th>\n",
       "      <th>DOM/CDOM</th>\n",
       "      <th>View YN</th>\n",
       "      <th>Pool Private YN</th>\n",
       "      <th>BAC</th>\n",
       "      <th>Contract Status Change Date</th>\n",
       "      <th>MLS</th>\n",
       "    </tr>\n",
       "  </thead>\n",
       "  <tbody>\n",
       "    <tr>\n",
       "      <th>0</th>\n",
       "      <td>1</td>\n",
       "      <td>180048066</td>\n",
       "      <td>S</td>\n",
       "      <td>MANL/D</td>\n",
       "      <td>12</td>\n",
       "      <td>Via Veneto    #12</td>\n",
       "      <td>CHU</td>\n",
       "      <td>NaN</td>\n",
       "      <td>NaN</td>\n",
       "      <td>$89,000</td>\n",
       "      <td>...</td>\n",
       "      <td>2/2,0,0,0</td>\n",
       "      <td>1000/P</td>\n",
       "      <td>2006</td>\n",
       "      <td>NaN</td>\n",
       "      <td>8-Aug</td>\n",
       "      <td>NaN</td>\n",
       "      <td>N</td>\n",
       "      <td>2500</td>\n",
       "      <td>9/14/2018</td>\n",
       "      <td>SAND</td>\n",
       "    </tr>\n",
       "    <tr>\n",
       "      <th>1</th>\n",
       "      <td>1</td>\n",
       "      <td>180047253</td>\n",
       "      <td>S</td>\n",
       "      <td>CONDO/A</td>\n",
       "      <td>1653</td>\n",
       "      <td>Pentecost Way    #1</td>\n",
       "      <td>SD</td>\n",
       "      <td>NaN</td>\n",
       "      <td>NaN</td>\n",
       "      <td>$158,000</td>\n",
       "      <td>...</td>\n",
       "      <td>1/1,0,0,0</td>\n",
       "      <td>668/A</td>\n",
       "      <td>1980</td>\n",
       "      <td>NaN</td>\n",
       "      <td>1-Jan</td>\n",
       "      <td>NaN</td>\n",
       "      <td>N</td>\n",
       "      <td>2.5</td>\n",
       "      <td>9/7/2018</td>\n",
       "      <td>SAND</td>\n",
       "    </tr>\n",
       "    <tr>\n",
       "      <th>2</th>\n",
       "      <td>1</td>\n",
       "      <td>180046958</td>\n",
       "      <td>S</td>\n",
       "      <td>CONDO/A</td>\n",
       "      <td>6101</td>\n",
       "      <td>Adelaide Ave    #107</td>\n",
       "      <td>SD</td>\n",
       "      <td>NaN</td>\n",
       "      <td>NaN</td>\n",
       "      <td>$168,250</td>\n",
       "      <td>...</td>\n",
       "      <td>0/1,0,0,0</td>\n",
       "      <td>299/A</td>\n",
       "      <td>1984/ASR</td>\n",
       "      <td>NaN</td>\n",
       "      <td>5-May</td>\n",
       "      <td>NaN</td>\n",
       "      <td>N</td>\n",
       "      <td>2.5</td>\n",
       "      <td>9/14/2018</td>\n",
       "      <td>SAND</td>\n",
       "    </tr>\n",
       "    <tr>\n",
       "      <th>3</th>\n",
       "      <td>1</td>\n",
       "      <td>180047651</td>\n",
       "      <td>S</td>\n",
       "      <td>CONDO/A</td>\n",
       "      <td>589 N</td>\n",
       "      <td>Johnson    #137</td>\n",
       "      <td>ELC</td>\n",
       "      <td>NaN</td>\n",
       "      <td>NaN</td>\n",
       "      <td>$175,000</td>\n",
       "      <td>...</td>\n",
       "      <td>2/1,0,0,0</td>\n",
       "      <td>883/</td>\n",
       "      <td>1980</td>\n",
       "      <td>NaN</td>\n",
       "      <td>4-Apr</td>\n",
       "      <td>NaN</td>\n",
       "      <td>N</td>\n",
       "      <td>500</td>\n",
       "      <td>8/28/2018</td>\n",
       "      <td>SAND</td>\n",
       "    </tr>\n",
       "    <tr>\n",
       "      <th>4</th>\n",
       "      <td>1</td>\n",
       "      <td>180051931</td>\n",
       "      <td>S</td>\n",
       "      <td>SFR</td>\n",
       "      <td>3138</td>\n",
       "      <td>Roadrunner</td>\n",
       "      <td>BSPG</td>\n",
       "      <td>NaN</td>\n",
       "      <td>NaN</td>\n",
       "      <td>$190,000</td>\n",
       "      <td>...</td>\n",
       "      <td>2/2,0,0,0</td>\n",
       "      <td>1356/A</td>\n",
       "      <td>1986</td>\n",
       "      <td>NaN</td>\n",
       "      <td>0/135</td>\n",
       "      <td>NaN</td>\n",
       "      <td>N</td>\n",
       "      <td>3</td>\n",
       "      <td>9/14/2018</td>\n",
       "      <td>SAND</td>\n",
       "    </tr>\n",
       "  </tbody>\n",
       "</table>\n",
       "<p>5 rows × 21 columns</p>\n",
       "</div>"
      ],
      "text/plain": [
       "   Unnamed: 0 Listing ID  S Sub Type    St#               St Name  City  \\\n",
       "0           1  180048066  S   MANL/D     12     Via Veneto    #12   CHU   \n",
       "1           1  180047253  S  CONDO/A   1653   Pentecost Way    #1    SD   \n",
       "2           1  180046958  S  CONDO/A   6101  Adelaide Ave    #107    SD   \n",
       "3           1  180047651  S  CONDO/A  589 N       Johnson    #137   ELC   \n",
       "4           1  180051931  S      SFR   3138         Roadrunner     BSPG   \n",
       "\n",
       "  MLS Area  SLC  L/C Price  ...       Br/Ba    Sqft   YrBuilt Ac/LSqft  \\\n",
       "0      NaN  NaN   $89,000   ...   2/2,0,0,0  1000/P      2006      NaN   \n",
       "1      NaN  NaN  $158,000   ...   1/1,0,0,0   668/A      1980      NaN   \n",
       "2      NaN  NaN  $168,250   ...   0/1,0,0,0   299/A  1984/ASR      NaN   \n",
       "3      NaN  NaN  $175,000   ...   2/1,0,0,0    883/      1980      NaN   \n",
       "4      NaN  NaN  $190,000   ...   2/2,0,0,0  1356/A      1986      NaN   \n",
       "\n",
       "  DOM/CDOM View YN Pool Private YN   BAC Contract Status Change Date   MLS  \n",
       "0    8-Aug     NaN               N  2500                   9/14/2018  SAND  \n",
       "1    1-Jan     NaN               N   2.5                    9/7/2018  SAND  \n",
       "2    5-May     NaN               N   2.5                   9/14/2018  SAND  \n",
       "3    4-Apr     NaN               N   500                   8/28/2018  SAND  \n",
       "4    0/135     NaN               N     3                   9/14/2018  SAND  \n",
       "\n",
       "[5 rows x 21 columns]"
      ]
     },
     "execution_count": 19,
     "metadata": {},
     "output_type": "execute_result"
    }
   ],
   "source": [
    "ca_current.head()"
   ]
  },
  {
   "cell_type": "code",
   "execution_count": 20,
   "metadata": {},
   "outputs": [
    {
     "data": {
      "text/html": [
       "<div>\n",
       "<style scoped>\n",
       "    .dataframe tbody tr th:only-of-type {\n",
       "        vertical-align: middle;\n",
       "    }\n",
       "\n",
       "    .dataframe tbody tr th {\n",
       "        vertical-align: top;\n",
       "    }\n",
       "\n",
       "    .dataframe thead th {\n",
       "        text-align: right;\n",
       "    }\n",
       "</style>\n",
       "<table border=\"1\" class=\"dataframe\">\n",
       "  <thead>\n",
       "    <tr style=\"text-align: right;\">\n",
       "      <th></th>\n",
       "      <th>Sub Type</th>\n",
       "      <th>St#</th>\n",
       "      <th>St Name</th>\n",
       "      <th>City</th>\n",
       "      <th>L/C Price</th>\n",
       "      <th>Br/Ba</th>\n",
       "      <th>YrBuilt</th>\n",
       "    </tr>\n",
       "  </thead>\n",
       "  <tbody>\n",
       "    <tr>\n",
       "      <th>0</th>\n",
       "      <td>MANL/D</td>\n",
       "      <td>12</td>\n",
       "      <td>Via Veneto    #12</td>\n",
       "      <td>CHU</td>\n",
       "      <td>$89,000</td>\n",
       "      <td>2/2,0,0,0</td>\n",
       "      <td>2006</td>\n",
       "    </tr>\n",
       "    <tr>\n",
       "      <th>1</th>\n",
       "      <td>CONDO/A</td>\n",
       "      <td>1653</td>\n",
       "      <td>Pentecost Way    #1</td>\n",
       "      <td>SD</td>\n",
       "      <td>$158,000</td>\n",
       "      <td>1/1,0,0,0</td>\n",
       "      <td>1980</td>\n",
       "    </tr>\n",
       "    <tr>\n",
       "      <th>2</th>\n",
       "      <td>CONDO/A</td>\n",
       "      <td>6101</td>\n",
       "      <td>Adelaide Ave    #107</td>\n",
       "      <td>SD</td>\n",
       "      <td>$168,250</td>\n",
       "      <td>0/1,0,0,0</td>\n",
       "      <td>1984/ASR</td>\n",
       "    </tr>\n",
       "    <tr>\n",
       "      <th>3</th>\n",
       "      <td>CONDO/A</td>\n",
       "      <td>589 N</td>\n",
       "      <td>Johnson    #137</td>\n",
       "      <td>ELC</td>\n",
       "      <td>$175,000</td>\n",
       "      <td>2/1,0,0,0</td>\n",
       "      <td>1980</td>\n",
       "    </tr>\n",
       "    <tr>\n",
       "      <th>4</th>\n",
       "      <td>SFR</td>\n",
       "      <td>3138</td>\n",
       "      <td>Roadrunner</td>\n",
       "      <td>BSPG</td>\n",
       "      <td>$190,000</td>\n",
       "      <td>2/2,0,0,0</td>\n",
       "      <td>1986</td>\n",
       "    </tr>\n",
       "  </tbody>\n",
       "</table>\n",
       "</div>"
      ],
      "text/plain": [
       "  Sub Type    St#               St Name  City  L/C Price      Br/Ba   YrBuilt\n",
       "0   MANL/D     12     Via Veneto    #12   CHU   $89,000   2/2,0,0,0      2006\n",
       "1  CONDO/A   1653   Pentecost Way    #1    SD  $158,000   1/1,0,0,0      1980\n",
       "2  CONDO/A   6101  Adelaide Ave    #107    SD  $168,250   0/1,0,0,0  1984/ASR\n",
       "3  CONDO/A  589 N       Johnson    #137   ELC  $175,000   2/1,0,0,0      1980\n",
       "4      SFR   3138         Roadrunner     BSPG  $190,000   2/2,0,0,0      1986"
      ]
     },
     "execution_count": 20,
     "metadata": {},
     "output_type": "execute_result"
    }
   ],
   "source": [
    "# Keep only the columns that are useful \n",
    "ca_current = ca_current[['Sub Type', 'St#', 'St Name', 'City', 'L/C Price', 'Br/Ba', 'YrBuilt']]\n",
    "ca_current.head()"
   ]
  },
  {
   "cell_type": "markdown",
   "metadata": {},
   "source": [
    "* *We cleaned our data frame of any superfluous information, as either some are not quantifiable or we simply cannot work with them due to our limited sets of data.*"
   ]
  },
  {
   "cell_type": "markdown",
   "metadata": {},
   "source": [
    "#### Housing Age"
   ]
  },
  {
   "cell_type": "markdown",
   "metadata": {},
   "source": [
    "Before calculating for the age, we must check for any missing values that lay in our YrBuilt column and the count of all instances in our data set."
   ]
  },
  {
   "cell_type": "code",
   "execution_count": 21,
   "metadata": {},
   "outputs": [
    {
     "data": {
      "text/plain": [
       "8"
      ]
     },
     "execution_count": 21,
     "metadata": {},
     "output_type": "execute_result"
    }
   ],
   "source": [
    "count = 0\n",
    "for i in ca_current['YrBuilt'].isna():\n",
    "    if i == True:\n",
    "        count += 1\n",
    "count"
   ]
  },
  {
   "cell_type": "code",
   "execution_count": 22,
   "metadata": {},
   "outputs": [
    {
     "data": {
      "text/plain": [
       "Sub Type     4997\n",
       "St#          4999\n",
       "St Name      4999\n",
       "City         4997\n",
       "L/C Price    4999\n",
       "Br/Ba        4999\n",
       "YrBuilt      4991\n",
       "dtype: int64"
      ]
     },
     "execution_count": 22,
     "metadata": {},
     "output_type": "execute_result"
    }
   ],
   "source": [
    "ca_current.count()"
   ]
  },
  {
   "cell_type": "code",
   "execution_count": 23,
   "metadata": {
    "scrolled": true
   },
   "outputs": [
    {
     "data": {
      "text/plain": [
       "4991"
      ]
     },
     "execution_count": 23,
     "metadata": {},
     "output_type": "execute_result"
    }
   ],
   "source": [
    "ca_current.count().min()"
   ]
  },
  {
   "cell_type": "markdown",
   "metadata": {},
   "source": [
    "We also must calculate the number of values dropped if we were to delete all rows with any missing value."
   ]
  },
  {
   "cell_type": "code",
   "execution_count": 24,
   "metadata": {},
   "outputs": [
    {
     "data": {
      "text/plain": [
       "Sub Type     4987\n",
       "St#          4987\n",
       "St Name      4987\n",
       "City         4987\n",
       "L/C Price    4987\n",
       "Br/Ba        4987\n",
       "YrBuilt      4987\n",
       "dtype: int64"
      ]
     },
     "execution_count": 24,
     "metadata": {},
     "output_type": "execute_result"
    }
   ],
   "source": [
    "ca_current.dropna().count()"
   ]
  },
  {
   "cell_type": "markdown",
   "metadata": {},
   "source": [
    "* *Here, we encounter something strange. Even though our for loop above states that there are 8 NaN values underneath the YrBuilt columns, when we drop all rows with any missing value, the total number of rows dropped is only 4.*\n",
    "* *If we continue to attempt with a new dataframe that utilizes the .dropna() method, we will find that there is a bug in which most values become missing; therefore, we must fill all missing values with 0 in order to solve our issue.*"
   ]
  },
  {
   "cell_type": "code",
   "execution_count": 25,
   "metadata": {},
   "outputs": [
    {
     "data": {
      "text/html": [
       "<div>\n",
       "<style scoped>\n",
       "    .dataframe tbody tr th:only-of-type {\n",
       "        vertical-align: middle;\n",
       "    }\n",
       "\n",
       "    .dataframe tbody tr th {\n",
       "        vertical-align: top;\n",
       "    }\n",
       "\n",
       "    .dataframe thead th {\n",
       "        text-align: right;\n",
       "    }\n",
       "</style>\n",
       "<table border=\"1\" class=\"dataframe\">\n",
       "  <thead>\n",
       "    <tr style=\"text-align: right;\">\n",
       "      <th></th>\n",
       "      <th>Sub Type</th>\n",
       "      <th>St#</th>\n",
       "      <th>St Name</th>\n",
       "      <th>City</th>\n",
       "      <th>L/C Price</th>\n",
       "      <th>Br/Ba</th>\n",
       "      <th>YrBuilt</th>\n",
       "      <th>Age</th>\n",
       "    </tr>\n",
       "  </thead>\n",
       "  <tbody>\n",
       "    <tr>\n",
       "      <th>0</th>\n",
       "      <td>MANL/D</td>\n",
       "      <td>12</td>\n",
       "      <td>Via Veneto    #12</td>\n",
       "      <td>CHU</td>\n",
       "      <td>$89,000</td>\n",
       "      <td>2/2,0,0,0</td>\n",
       "      <td>2006</td>\n",
       "      <td>12</td>\n",
       "    </tr>\n",
       "    <tr>\n",
       "      <th>1</th>\n",
       "      <td>CONDO/A</td>\n",
       "      <td>1653</td>\n",
       "      <td>Pentecost Way    #1</td>\n",
       "      <td>SD</td>\n",
       "      <td>$158,000</td>\n",
       "      <td>1/1,0,0,0</td>\n",
       "      <td>1980</td>\n",
       "      <td>38</td>\n",
       "    </tr>\n",
       "    <tr>\n",
       "      <th>2</th>\n",
       "      <td>CONDO/A</td>\n",
       "      <td>6101</td>\n",
       "      <td>Adelaide Ave    #107</td>\n",
       "      <td>SD</td>\n",
       "      <td>$168,250</td>\n",
       "      <td>0/1,0,0,0</td>\n",
       "      <td>1984/ASR</td>\n",
       "      <td>34</td>\n",
       "    </tr>\n",
       "    <tr>\n",
       "      <th>3</th>\n",
       "      <td>CONDO/A</td>\n",
       "      <td>589 N</td>\n",
       "      <td>Johnson    #137</td>\n",
       "      <td>ELC</td>\n",
       "      <td>$175,000</td>\n",
       "      <td>2/1,0,0,0</td>\n",
       "      <td>1980</td>\n",
       "      <td>38</td>\n",
       "    </tr>\n",
       "    <tr>\n",
       "      <th>4</th>\n",
       "      <td>SFR</td>\n",
       "      <td>3138</td>\n",
       "      <td>Roadrunner</td>\n",
       "      <td>BSPG</td>\n",
       "      <td>$190,000</td>\n",
       "      <td>2/2,0,0,0</td>\n",
       "      <td>1986</td>\n",
       "      <td>32</td>\n",
       "    </tr>\n",
       "  </tbody>\n",
       "</table>\n",
       "</div>"
      ],
      "text/plain": [
       "  Sub Type    St#               St Name  City  L/C Price      Br/Ba   YrBuilt  \\\n",
       "0   MANL/D     12     Via Veneto    #12   CHU   $89,000   2/2,0,0,0      2006   \n",
       "1  CONDO/A   1653   Pentecost Way    #1    SD  $158,000   1/1,0,0,0      1980   \n",
       "2  CONDO/A   6101  Adelaide Ave    #107    SD  $168,250   0/1,0,0,0  1984/ASR   \n",
       "3  CONDO/A  589 N       Johnson    #137   ELC  $175,000   2/1,0,0,0      1980   \n",
       "4      SFR   3138         Roadrunner     BSPG  $190,000   2/2,0,0,0      1986   \n",
       "\n",
       "  Age  \n",
       "0  12  \n",
       "1  38  \n",
       "2  34  \n",
       "3  38  \n",
       "4  32  "
      ]
     },
     "execution_count": 25,
     "metadata": {},
     "output_type": "execute_result"
    }
   ],
   "source": [
    "# Split the string to isolate the integers\n",
    "yr_blt = ca_current.loc[:, 'YrBuilt'].str.split('/', expand=True)[0]\n",
    "# Turn the values into a data frame\n",
    "yr_blt = pd.DataFrame(yr_blt)\n",
    "# Fill the empty cells with 0\n",
    "yr_blt = yr_blt.fillna(0)\n",
    "# Create the new columns for age\n",
    "ca_current['Age'] = ''\n",
    "# Calculate for age\n",
    "count = 0\n",
    "for i in yr_blt[0]:\n",
    "    # Values that were empty are now 0 years old.\n",
    "    # We will count them later to determine whether or not we will drop them.\n",
    "    i = 2018 - int(i)\n",
    "    ca_current['Age'][count] = i\n",
    "    count += 1\n",
    "ca_current.head()"
   ]
  },
  {
   "cell_type": "markdown",
   "metadata": {},
   "source": [
    "* *In the data frame above, we are calculating the current ages of our houses by subtracting the current year from the year they were built.*"
   ]
  },
  {
   "cell_type": "markdown",
   "metadata": {},
   "source": [
    "#### Get rid of NaN Values under YrBuilt column"
   ]
  },
  {
   "cell_type": "code",
   "execution_count": 26,
   "metadata": {
    "scrolled": false
   },
   "outputs": [
    {
     "name": "stderr",
     "output_type": "stream",
     "text": [
      "/Users/trucho/anaconda3/envs/PythonData/lib/python3.6/site-packages/ipykernel/__main__.py:9: SettingWithCopyWarning: \n",
      "A value is trying to be set on a copy of a slice from a DataFrame.\n",
      "Try using .loc[row_indexer,col_indexer] = value instead\n",
      "\n",
      "See the caveats in the documentation: http://pandas.pydata.org/pandas-docs/stable/indexing.html#indexing-view-versus-copy\n"
     ]
    }
   ],
   "source": [
    "# Grab all values with the year 2018 since 2018 - 0 = 2018\n",
    "with_nan_df = ca_current.loc[ca_current['Age'] == 2018, :]\n",
    "# Grab the values that are not NaN, but built in 2018\n",
    "zero_bld = with_nan_df.loc[with_nan_df['YrBuilt'] == '0/BLD', :]\n",
    "zero_asr = with_nan_df.loc[with_nan_df['YrBuilt'] == '0/ASR', :]\n",
    "# Remove the houses that are built in 2018 and merge the necessary data frames\n",
    "without_2018_df = pd.merge(ca_current, with_nan_df, indicator=True, how='outer').query('_merge==\"left_only\"').drop('_merge', axis=1)\n",
    "with_zero_bld = pd.merge(without_2018_df, zero_bld, how='outer')\n",
    "zero_asr['Age'] = zero_asr['Age'].apply(int)\n",
    "without_nan_df = pd.merge(with_zero_bld, zero_asr, how='outer')"
   ]
  },
  {
   "cell_type": "code",
   "execution_count": 27,
   "metadata": {},
   "outputs": [],
   "source": [
    "# Create a new column with the house prices without the dollar sign \n",
    "without_nan_df['house_price'] = without_nan_df.loc[:, 'L/C Price'].str.split('$', expand=True)[1]"
   ]
  },
  {
   "cell_type": "code",
   "execution_count": 28,
   "metadata": {},
   "outputs": [],
   "source": [
    "without_nan_df['house_price'] = without_nan_df['house_price'].str.replace(',', '')"
   ]
  },
  {
   "cell_type": "code",
   "execution_count": 29,
   "metadata": {},
   "outputs": [],
   "source": [
    "# Grab the data frame and set the index to the listing price\n",
    "sorted_ca_current = ca_current.set_index(\"L/C Price\").reset_index()"
   ]
  },
  {
   "cell_type": "markdown",
   "metadata": {},
   "source": [
    "Sort data by median house value and slice the top and bottom 5%"
   ]
  },
  {
   "cell_type": "code",
   "execution_count": 30,
   "metadata": {},
   "outputs": [
    {
     "data": {
      "text/html": [
       "<div>\n",
       "<style scoped>\n",
       "    .dataframe tbody tr th:only-of-type {\n",
       "        vertical-align: middle;\n",
       "    }\n",
       "\n",
       "    .dataframe tbody tr th {\n",
       "        vertical-align: top;\n",
       "    }\n",
       "\n",
       "    .dataframe thead th {\n",
       "        text-align: right;\n",
       "    }\n",
       "</style>\n",
       "<table border=\"1\" class=\"dataframe\">\n",
       "  <thead>\n",
       "    <tr style=\"text-align: right;\">\n",
       "      <th></th>\n",
       "      <th>L/C Price</th>\n",
       "      <th>Sub Type</th>\n",
       "      <th>St#</th>\n",
       "      <th>St Name</th>\n",
       "      <th>City</th>\n",
       "      <th>Br/Ba</th>\n",
       "      <th>YrBuilt</th>\n",
       "      <th>Age</th>\n",
       "    </tr>\n",
       "  </thead>\n",
       "  <tbody>\n",
       "    <tr>\n",
       "      <th>4741</th>\n",
       "      <td>$308,000</td>\n",
       "      <td>SFR/D</td>\n",
       "      <td>557 E</td>\n",
       "      <td>Sunkist ST</td>\n",
       "      <td>ONT</td>\n",
       "      <td>2/1,0,0,0</td>\n",
       "      <td>1924/ASR</td>\n",
       "      <td>94</td>\n",
       "    </tr>\n",
       "    <tr>\n",
       "      <th>4742</th>\n",
       "      <td>$335,000</td>\n",
       "      <td>CONDO/A</td>\n",
       "      <td>1228 S</td>\n",
       "      <td>Cypress AVE   #A</td>\n",
       "      <td>ONT</td>\n",
       "      <td>3/2,0,1,0</td>\n",
       "      <td>1981/ASR</td>\n",
       "      <td>37</td>\n",
       "    </tr>\n",
       "    <tr>\n",
       "      <th>4743</th>\n",
       "      <td>$409,900</td>\n",
       "      <td>SFR/D</td>\n",
       "      <td>3107</td>\n",
       "      <td>Antler RD</td>\n",
       "      <td>ONT</td>\n",
       "      <td>3/2,0,0,0</td>\n",
       "      <td>1988/ASR</td>\n",
       "      <td>30</td>\n",
       "    </tr>\n",
       "    <tr>\n",
       "      <th>4744</th>\n",
       "      <td>$415,000</td>\n",
       "      <td>SFR/D</td>\n",
       "      <td>504 E</td>\n",
       "      <td>CEDAR ST</td>\n",
       "      <td>ONT</td>\n",
       "      <td>3/2,0,0,0</td>\n",
       "      <td>1977/ASR</td>\n",
       "      <td>41</td>\n",
       "    </tr>\n",
       "    <tr>\n",
       "      <th>4745</th>\n",
       "      <td>$474,000</td>\n",
       "      <td>SFR/A</td>\n",
       "      <td>925 W</td>\n",
       "      <td>Hawthorne ST</td>\n",
       "      <td>ONT</td>\n",
       "      <td>3/2,0,0,0</td>\n",
       "      <td>1958/PUB</td>\n",
       "      <td>60</td>\n",
       "    </tr>\n",
       "  </tbody>\n",
       "</table>\n",
       "</div>"
      ],
      "text/plain": [
       "      L/C Price Sub Type     St#           St Name City      Br/Ba   YrBuilt  \\\n",
       "4741  $308,000     SFR/D   557 E      Sunkist ST    ONT  2/1,0,0,0  1924/ASR   \n",
       "4742  $335,000   CONDO/A  1228 S  Cypress AVE   #A  ONT  3/2,0,1,0  1981/ASR   \n",
       "4743  $409,900     SFR/D    3107       Antler RD    ONT  3/2,0,0,0  1988/ASR   \n",
       "4744  $415,000     SFR/D   504 E        CEDAR ST    ONT  3/2,0,0,0  1977/ASR   \n",
       "4745  $474,000     SFR/A   925 W    Hawthorne ST    ONT  3/2,0,0,0  1958/PUB   \n",
       "\n",
       "     Age  \n",
       "4741  94  \n",
       "4742  37  \n",
       "4743  30  \n",
       "4744  41  \n",
       "4745  60  "
      ]
     },
     "execution_count": 30,
     "metadata": {},
     "output_type": "execute_result"
    }
   ],
   "source": [
    "# Slice the top 5%\n",
    "top5_2018 = sorted_ca_current.iloc[round(len(without_nan_df['house_price'])*0.95): len(without_nan_df['house_price']),:]\n",
    "top5_2018.head()"
   ]
  },
  {
   "cell_type": "code",
   "execution_count": 31,
   "metadata": {},
   "outputs": [
    {
     "data": {
      "text/html": [
       "<div>\n",
       "<style scoped>\n",
       "    .dataframe tbody tr th:only-of-type {\n",
       "        vertical-align: middle;\n",
       "    }\n",
       "\n",
       "    .dataframe tbody tr th {\n",
       "        vertical-align: top;\n",
       "    }\n",
       "\n",
       "    .dataframe thead th {\n",
       "        text-align: right;\n",
       "    }\n",
       "</style>\n",
       "<table border=\"1\" class=\"dataframe\">\n",
       "  <thead>\n",
       "    <tr style=\"text-align: right;\">\n",
       "      <th></th>\n",
       "      <th>Sub Type</th>\n",
       "      <th>St#</th>\n",
       "      <th>St Name</th>\n",
       "      <th>City</th>\n",
       "      <th>L/C Price</th>\n",
       "      <th>Br/Ba</th>\n",
       "      <th>YrBuilt</th>\n",
       "      <th>Age</th>\n",
       "      <th>house_price</th>\n",
       "    </tr>\n",
       "  </thead>\n",
       "  <tbody>\n",
       "    <tr>\n",
       "      <th>0</th>\n",
       "      <td>MANL/D</td>\n",
       "      <td>12</td>\n",
       "      <td>Via Veneto    #12</td>\n",
       "      <td>CHU</td>\n",
       "      <td>$89,000</td>\n",
       "      <td>2/2,0,0,0</td>\n",
       "      <td>2006</td>\n",
       "      <td>12.0</td>\n",
       "      <td>89000</td>\n",
       "    </tr>\n",
       "    <tr>\n",
       "      <th>1</th>\n",
       "      <td>CONDO/A</td>\n",
       "      <td>1653</td>\n",
       "      <td>Pentecost Way    #1</td>\n",
       "      <td>SD</td>\n",
       "      <td>$158,000</td>\n",
       "      <td>1/1,0,0,0</td>\n",
       "      <td>1980</td>\n",
       "      <td>38.0</td>\n",
       "      <td>158000</td>\n",
       "    </tr>\n",
       "    <tr>\n",
       "      <th>2</th>\n",
       "      <td>CONDO/A</td>\n",
       "      <td>6101</td>\n",
       "      <td>Adelaide Ave    #107</td>\n",
       "      <td>SD</td>\n",
       "      <td>$168,250</td>\n",
       "      <td>0/1,0,0,0</td>\n",
       "      <td>1984/ASR</td>\n",
       "      <td>34.0</td>\n",
       "      <td>168250</td>\n",
       "    </tr>\n",
       "    <tr>\n",
       "      <th>3</th>\n",
       "      <td>CONDO/A</td>\n",
       "      <td>589 N</td>\n",
       "      <td>Johnson    #137</td>\n",
       "      <td>ELC</td>\n",
       "      <td>$175,000</td>\n",
       "      <td>2/1,0,0,0</td>\n",
       "      <td>1980</td>\n",
       "      <td>38.0</td>\n",
       "      <td>175000</td>\n",
       "    </tr>\n",
       "    <tr>\n",
       "      <th>4</th>\n",
       "      <td>SFR</td>\n",
       "      <td>3138</td>\n",
       "      <td>Roadrunner</td>\n",
       "      <td>BSPG</td>\n",
       "      <td>$190,000</td>\n",
       "      <td>2/2,0,0,0</td>\n",
       "      <td>1986</td>\n",
       "      <td>32.0</td>\n",
       "      <td>190000</td>\n",
       "    </tr>\n",
       "  </tbody>\n",
       "</table>\n",
       "</div>"
      ],
      "text/plain": [
       "  Sub Type    St#               St Name  City  L/C Price      Br/Ba   YrBuilt  \\\n",
       "0   MANL/D     12     Via Veneto    #12   CHU   $89,000   2/2,0,0,0      2006   \n",
       "1  CONDO/A   1653   Pentecost Way    #1    SD  $158,000   1/1,0,0,0      1980   \n",
       "2  CONDO/A   6101  Adelaide Ave    #107    SD  $168,250   0/1,0,0,0  1984/ASR   \n",
       "3  CONDO/A  589 N       Johnson    #137   ELC  $175,000   2/1,0,0,0      1980   \n",
       "4      SFR   3138         Roadrunner     BSPG  $190,000   2/2,0,0,0      1986   \n",
       "\n",
       "    Age house_price  \n",
       "0  12.0      89000   \n",
       "1  38.0     158000   \n",
       "2  34.0     168250   \n",
       "3  38.0     175000   \n",
       "4  32.0     190000   "
      ]
     },
     "execution_count": 31,
     "metadata": {},
     "output_type": "execute_result"
    }
   ],
   "source": [
    "# Slice the bottom 5%\n",
    "bottom5_2018 = without_nan_df.iloc[:round(len(without_nan_df['house_price'])*0.05), :]\n",
    "bottom5_2018.head()"
   ]
  },
  {
   "cell_type": "markdown",
   "metadata": {},
   "source": [
    "## Plotting 1990 and 2018 House Data with Gmaps"
   ]
  },
  {
   "cell_type": "code",
   "execution_count": 32,
   "metadata": {},
   "outputs": [],
   "source": [
    "# Decorations\n",
    "import requests\n",
    "import pandas as pd\n",
    "import numpy as np\n",
    "import matplotlib.pyplot as plt\n",
    "from pprint import pprint\n",
    "import gmplot\n",
    "from config import api_key\n",
    "from pprint import pprint"
   ]
  },
  {
   "cell_type": "code",
   "execution_count": 33,
   "metadata": {},
   "outputs": [],
   "source": [
    "# Import database\n",
    "df1 = pd.read_csv('Data/housing.csv')\n",
    "df2 = pd.read_csv('Data/Total.csv')\n",
    "df1 = df1.dropna()"
   ]
  },
  {
   "cell_type": "markdown",
   "metadata": {},
   "source": [
    "### California Housing (1990) Gmap Plotting"
   ]
  },
  {
   "cell_type": "markdown",
   "metadata": {},
   "source": [
    "Sort and slice data to get top and bottom 5%"
   ]
  },
  {
   "cell_type": "code",
   "execution_count": 34,
   "metadata": {
    "scrolled": true
   },
   "outputs": [
    {
     "data": {
      "text/html": [
       "<div>\n",
       "<style scoped>\n",
       "    .dataframe tbody tr th:only-of-type {\n",
       "        vertical-align: middle;\n",
       "    }\n",
       "\n",
       "    .dataframe tbody tr th {\n",
       "        vertical-align: top;\n",
       "    }\n",
       "\n",
       "    .dataframe thead th {\n",
       "        text-align: right;\n",
       "    }\n",
       "</style>\n",
       "<table border=\"1\" class=\"dataframe\">\n",
       "  <thead>\n",
       "    <tr style=\"text-align: right;\">\n",
       "      <th></th>\n",
       "      <th>longitude</th>\n",
       "      <th>latitude</th>\n",
       "      <th>housing_median_age</th>\n",
       "      <th>total_rooms</th>\n",
       "      <th>total_bedrooms</th>\n",
       "      <th>population</th>\n",
       "      <th>households</th>\n",
       "      <th>median_income</th>\n",
       "      <th>median_house_value</th>\n",
       "      <th>ocean_proximity</th>\n",
       "    </tr>\n",
       "  </thead>\n",
       "  <tbody>\n",
       "    <tr>\n",
       "      <th>0</th>\n",
       "      <td>-118.42</td>\n",
       "      <td>34.08</td>\n",
       "      <td>48</td>\n",
       "      <td>2413</td>\n",
       "      <td>261.0</td>\n",
       "      <td>770</td>\n",
       "      <td>248</td>\n",
       "      <td>15.0001</td>\n",
       "      <td>500001</td>\n",
       "      <td>&lt;1H OCEAN</td>\n",
       "    </tr>\n",
       "    <tr>\n",
       "      <th>1</th>\n",
       "      <td>-117.66</td>\n",
       "      <td>33.48</td>\n",
       "      <td>22</td>\n",
       "      <td>809</td>\n",
       "      <td>180.0</td>\n",
       "      <td>334</td>\n",
       "      <td>157</td>\n",
       "      <td>2.3846</td>\n",
       "      <td>500001</td>\n",
       "      <td>&lt;1H OCEAN</td>\n",
       "    </tr>\n",
       "    <tr>\n",
       "      <th>2</th>\n",
       "      <td>-118.50</td>\n",
       "      <td>33.97</td>\n",
       "      <td>29</td>\n",
       "      <td>2737</td>\n",
       "      <td>808.0</td>\n",
       "      <td>1157</td>\n",
       "      <td>696</td>\n",
       "      <td>5.1280</td>\n",
       "      <td>500001</td>\n",
       "      <td>&lt;1H OCEAN</td>\n",
       "    </tr>\n",
       "    <tr>\n",
       "      <th>3</th>\n",
       "      <td>-122.47</td>\n",
       "      <td>37.73</td>\n",
       "      <td>50</td>\n",
       "      <td>1653</td>\n",
       "      <td>252.0</td>\n",
       "      <td>641</td>\n",
       "      <td>224</td>\n",
       "      <td>10.6605</td>\n",
       "      <td>500001</td>\n",
       "      <td>NEAR OCEAN</td>\n",
       "    </tr>\n",
       "    <tr>\n",
       "      <th>4</th>\n",
       "      <td>-122.47</td>\n",
       "      <td>37.73</td>\n",
       "      <td>52</td>\n",
       "      <td>2151</td>\n",
       "      <td>280.0</td>\n",
       "      <td>762</td>\n",
       "      <td>274</td>\n",
       "      <td>10.7309</td>\n",
       "      <td>500001</td>\n",
       "      <td>NEAR OCEAN</td>\n",
       "    </tr>\n",
       "  </tbody>\n",
       "</table>\n",
       "</div>"
      ],
      "text/plain": [
       "   longitude  latitude  housing_median_age  total_rooms  total_bedrooms  \\\n",
       "0    -118.42     34.08                  48         2413           261.0   \n",
       "1    -117.66     33.48                  22          809           180.0   \n",
       "2    -118.50     33.97                  29         2737           808.0   \n",
       "3    -122.47     37.73                  50         1653           252.0   \n",
       "4    -122.47     37.73                  52         2151           280.0   \n",
       "\n",
       "   population  households  median_income  median_house_value ocean_proximity  \n",
       "0         770         248        15.0001              500001       <1H OCEAN  \n",
       "1         334         157         2.3846              500001       <1H OCEAN  \n",
       "2        1157         696         5.1280              500001       <1H OCEAN  \n",
       "3         641         224        10.6605              500001      NEAR OCEAN  \n",
       "4         762         274        10.7309              500001      NEAR OCEAN  "
      ]
     },
     "execution_count": 34,
     "metadata": {},
     "output_type": "execute_result"
    }
   ],
   "source": [
    "# SSort data by house value\n",
    "df1 = df1.sort_values('median_house_value', ascending=False).reset_index(drop=True)\n",
    "df1.head()"
   ]
  },
  {
   "cell_type": "code",
   "execution_count": 35,
   "metadata": {},
   "outputs": [],
   "source": [
    "# Slice the top 5%\n",
    "top5 = df1.iloc[:round(len(df1['median_house_value'])*0.05), :].sort_values('median_house_value', ascending=True)"
   ]
  },
  {
   "cell_type": "code",
   "execution_count": 36,
   "metadata": {},
   "outputs": [],
   "source": [
    "# slice the bottom 5%\n",
    "bottom5 = df1.iloc[round(len(df1['median_house_value'])*0.95): len(df1['median_house_value']),:].sort_values('median_house_value', ascending=True)"
   ]
  },
  {
   "cell_type": "markdown",
   "metadata": {},
   "source": [
    "Plotting Top 5% and Bottom 5% on gmap (Use gmplot package)"
   ]
  },
  {
   "cell_type": "code",
   "execution_count": 37,
   "metadata": {},
   "outputs": [],
   "source": [
    "# Set the center of the map\n",
    "gmap_df1 = gmplot.GoogleMapPlotter(df1['latitude'].median(),\n",
    "                                   df1['longitude'].median(), 100000)\n",
    "# Plot scatter points based on LatLng\n",
    "gmap_df1.scatter(df1['latitude'], df1['longitude'], '#FF0000', \n",
    "                              size = 2000, marker = False ) \n",
    "# Draw out to 'Plot' folder in html format\n",
    "gmap_df1.draw(\"gmap_df1.html\")"
   ]
  },
  {
   "cell_type": "code",
   "execution_count": 38,
   "metadata": {},
   "outputs": [],
   "source": [
    "# Set the center of the map\n",
    "gmap = gmplot.GoogleMapPlotter(top5['latitude'].median(),\n",
    "                                   top5['longitude'].median(), 100000)\n",
    "# Plot scatter points based on LatLng\n",
    "gmap.scatter(top5['latitude'], top5['longitude'], '#FF0000', \n",
    "                              size = 2000, marker = False ) \n",
    "gmap.scatter(bottom5['latitude'], bottom5['longitude'], '#110870', \n",
    "                              size = 2000, marker = False ) \n",
    "# Draw out to 'Plot' folder in html format\n",
    "gmap.draw(\"gmap.html\")"
   ]
  },
  {
   "cell_type": "markdown",
   "metadata": {},
   "source": [
    "### Getting Latitudinal and Longitudinal Coordinates using Geocoder API for 2018 Housing"
   ]
  },
  {
   "cell_type": "code",
   "execution_count": 39,
   "metadata": {},
   "outputs": [
    {
     "data": {
      "text/html": [
       "<div>\n",
       "<style scoped>\n",
       "    .dataframe tbody tr th:only-of-type {\n",
       "        vertical-align: middle;\n",
       "    }\n",
       "\n",
       "    .dataframe tbody tr th {\n",
       "        vertical-align: top;\n",
       "    }\n",
       "\n",
       "    .dataframe thead th {\n",
       "        text-align: right;\n",
       "    }\n",
       "</style>\n",
       "<table border=\"1\" class=\"dataframe\">\n",
       "  <thead>\n",
       "    <tr style=\"text-align: right;\">\n",
       "      <th></th>\n",
       "      <th>Sub Type</th>\n",
       "      <th>St#</th>\n",
       "      <th>St Name</th>\n",
       "      <th>City</th>\n",
       "      <th>L/C Price</th>\n",
       "      <th>Br/Ba</th>\n",
       "      <th>YrBuilt</th>\n",
       "    </tr>\n",
       "  </thead>\n",
       "  <tbody>\n",
       "    <tr>\n",
       "      <th>0</th>\n",
       "      <td>MANL/D</td>\n",
       "      <td>12</td>\n",
       "      <td>Via Veneto    #12</td>\n",
       "      <td>CHU</td>\n",
       "      <td>$89,000</td>\n",
       "      <td>2/2,0,0,0</td>\n",
       "      <td>2006</td>\n",
       "    </tr>\n",
       "    <tr>\n",
       "      <th>1</th>\n",
       "      <td>CONDO/A</td>\n",
       "      <td>1653</td>\n",
       "      <td>Pentecost Way    #1</td>\n",
       "      <td>SD</td>\n",
       "      <td>$158,000</td>\n",
       "      <td>1/1,0,0,0</td>\n",
       "      <td>1980</td>\n",
       "    </tr>\n",
       "    <tr>\n",
       "      <th>2</th>\n",
       "      <td>CONDO/A</td>\n",
       "      <td>6101</td>\n",
       "      <td>Adelaide Ave    #107</td>\n",
       "      <td>SD</td>\n",
       "      <td>$168,250</td>\n",
       "      <td>0/1,0,0,0</td>\n",
       "      <td>1984/ASR</td>\n",
       "    </tr>\n",
       "    <tr>\n",
       "      <th>3</th>\n",
       "      <td>CONDO/A</td>\n",
       "      <td>589 N</td>\n",
       "      <td>Johnson    #137</td>\n",
       "      <td>ELC</td>\n",
       "      <td>$175,000</td>\n",
       "      <td>2/1,0,0,0</td>\n",
       "      <td>1980</td>\n",
       "    </tr>\n",
       "    <tr>\n",
       "      <th>4</th>\n",
       "      <td>SFR</td>\n",
       "      <td>3138</td>\n",
       "      <td>Roadrunner</td>\n",
       "      <td>BSPG</td>\n",
       "      <td>$190,000</td>\n",
       "      <td>2/2,0,0,0</td>\n",
       "      <td>1986</td>\n",
       "    </tr>\n",
       "  </tbody>\n",
       "</table>\n",
       "</div>"
      ],
      "text/plain": [
       "  Sub Type    St#               St Name  City  L/C Price      Br/Ba   YrBuilt\n",
       "0   MANL/D     12     Via Veneto    #12   CHU   $89,000   2/2,0,0,0      2006\n",
       "1  CONDO/A   1653   Pentecost Way    #1    SD  $158,000   1/1,0,0,0      1980\n",
       "2  CONDO/A   6101  Adelaide Ave    #107    SD  $168,250   0/1,0,0,0  1984/ASR\n",
       "3  CONDO/A  589 N       Johnson    #137   ELC  $175,000   2/1,0,0,0      1980\n",
       "4      SFR   3138         Roadrunner     BSPG  $190,000   2/2,0,0,0      1986"
      ]
     },
     "execution_count": 39,
     "metadata": {},
     "output_type": "execute_result"
    }
   ],
   "source": [
    "# Keep only the columns that are useful \n",
    "df2 = df2[['Sub Type', 'St#', 'St Name', 'City', 'L/C Price', 'Br/Ba', 'YrBuilt']]\n",
    "df2.head()"
   ]
  },
  {
   "cell_type": "code",
   "execution_count": 40,
   "metadata": {},
   "outputs": [],
   "source": [
    "yr_blt = df2.loc[:, 'YrBuilt'].str.split('/', expand=True)[0]\n",
    "yr_blt = pd.DataFrame(yr_blt)\n",
    "yr_blt = yr_blt.fillna(0)"
   ]
  },
  {
   "cell_type": "code",
   "execution_count": 41,
   "metadata": {
    "scrolled": false
   },
   "outputs": [
    {
     "data": {
      "text/html": [
       "<div>\n",
       "<style scoped>\n",
       "    .dataframe tbody tr th:only-of-type {\n",
       "        vertical-align: middle;\n",
       "    }\n",
       "\n",
       "    .dataframe tbody tr th {\n",
       "        vertical-align: top;\n",
       "    }\n",
       "\n",
       "    .dataframe thead th {\n",
       "        text-align: right;\n",
       "    }\n",
       "</style>\n",
       "<table border=\"1\" class=\"dataframe\">\n",
       "  <thead>\n",
       "    <tr style=\"text-align: right;\">\n",
       "      <th></th>\n",
       "      <th>Sub Type</th>\n",
       "      <th>St#</th>\n",
       "      <th>St Name</th>\n",
       "      <th>City</th>\n",
       "      <th>L/C Price</th>\n",
       "      <th>Br/Ba</th>\n",
       "      <th>YrBuilt</th>\n",
       "      <th>Age</th>\n",
       "    </tr>\n",
       "  </thead>\n",
       "  <tbody>\n",
       "    <tr>\n",
       "      <th>0</th>\n",
       "      <td>MANL/D</td>\n",
       "      <td>12</td>\n",
       "      <td>Via Veneto    #12</td>\n",
       "      <td>CHU</td>\n",
       "      <td>$89,000</td>\n",
       "      <td>2/2,0,0,0</td>\n",
       "      <td>2006</td>\n",
       "      <td>12</td>\n",
       "    </tr>\n",
       "    <tr>\n",
       "      <th>1</th>\n",
       "      <td>CONDO/A</td>\n",
       "      <td>1653</td>\n",
       "      <td>Pentecost Way    #1</td>\n",
       "      <td>SD</td>\n",
       "      <td>$158,000</td>\n",
       "      <td>1/1,0,0,0</td>\n",
       "      <td>1980</td>\n",
       "      <td>38</td>\n",
       "    </tr>\n",
       "    <tr>\n",
       "      <th>2</th>\n",
       "      <td>CONDO/A</td>\n",
       "      <td>6101</td>\n",
       "      <td>Adelaide Ave    #107</td>\n",
       "      <td>SD</td>\n",
       "      <td>$168,250</td>\n",
       "      <td>0/1,0,0,0</td>\n",
       "      <td>1984/ASR</td>\n",
       "      <td>34</td>\n",
       "    </tr>\n",
       "    <tr>\n",
       "      <th>3</th>\n",
       "      <td>CONDO/A</td>\n",
       "      <td>589 N</td>\n",
       "      <td>Johnson    #137</td>\n",
       "      <td>ELC</td>\n",
       "      <td>$175,000</td>\n",
       "      <td>2/1,0,0,0</td>\n",
       "      <td>1980</td>\n",
       "      <td>38</td>\n",
       "    </tr>\n",
       "    <tr>\n",
       "      <th>4</th>\n",
       "      <td>SFR</td>\n",
       "      <td>3138</td>\n",
       "      <td>Roadrunner</td>\n",
       "      <td>BSPG</td>\n",
       "      <td>$190,000</td>\n",
       "      <td>2/2,0,0,0</td>\n",
       "      <td>1986</td>\n",
       "      <td>32</td>\n",
       "    </tr>\n",
       "  </tbody>\n",
       "</table>\n",
       "</div>"
      ],
      "text/plain": [
       "  Sub Type    St#               St Name  City  L/C Price      Br/Ba   YrBuilt  \\\n",
       "0   MANL/D     12     Via Veneto    #12   CHU   $89,000   2/2,0,0,0      2006   \n",
       "1  CONDO/A   1653   Pentecost Way    #1    SD  $158,000   1/1,0,0,0      1980   \n",
       "2  CONDO/A   6101  Adelaide Ave    #107    SD  $168,250   0/1,0,0,0  1984/ASR   \n",
       "3  CONDO/A  589 N       Johnson    #137   ELC  $175,000   2/1,0,0,0      1980   \n",
       "4      SFR   3138         Roadrunner     BSPG  $190,000   2/2,0,0,0      1986   \n",
       "\n",
       "  Age  \n",
       "0  12  \n",
       "1  38  \n",
       "2  34  \n",
       "3  38  \n",
       "4  32  "
      ]
     },
     "execution_count": 41,
     "metadata": {},
     "output_type": "execute_result"
    }
   ],
   "source": [
    "df2['Age'] = ''\n",
    "count = 0\n",
    "for i in yr_blt[0]:\n",
    "        i = 2018 - int(i)\n",
    "        df2['Age'][count] = i\n",
    "        count += 1\n",
    "df2.head()"
   ]
  },
  {
   "cell_type": "code",
   "execution_count": 42,
   "metadata": {},
   "outputs": [],
   "source": [
    "df2['house_price'] = df2.loc[:, 'L/C Price'].str.split('$', expand=True)[1] "
   ]
  },
  {
   "cell_type": "code",
   "execution_count": 43,
   "metadata": {},
   "outputs": [
    {
     "data": {
      "text/html": [
       "<div>\n",
       "<style scoped>\n",
       "    .dataframe tbody tr th:only-of-type {\n",
       "        vertical-align: middle;\n",
       "    }\n",
       "\n",
       "    .dataframe tbody tr th {\n",
       "        vertical-align: top;\n",
       "    }\n",
       "\n",
       "    .dataframe thead th {\n",
       "        text-align: right;\n",
       "    }\n",
       "</style>\n",
       "<table border=\"1\" class=\"dataframe\">\n",
       "  <thead>\n",
       "    <tr style=\"text-align: right;\">\n",
       "      <th></th>\n",
       "      <th>Sub Type</th>\n",
       "      <th>St#</th>\n",
       "      <th>St Name</th>\n",
       "      <th>City</th>\n",
       "      <th>L/C Price</th>\n",
       "      <th>Br/Ba</th>\n",
       "      <th>YrBuilt</th>\n",
       "      <th>Age</th>\n",
       "      <th>house_price</th>\n",
       "    </tr>\n",
       "  </thead>\n",
       "  <tbody>\n",
       "    <tr>\n",
       "      <th>0</th>\n",
       "      <td>MANL/D</td>\n",
       "      <td>12</td>\n",
       "      <td>Via Veneto    #12</td>\n",
       "      <td>CHU</td>\n",
       "      <td>$89,000</td>\n",
       "      <td>2/2,0,0,0</td>\n",
       "      <td>2006</td>\n",
       "      <td>12</td>\n",
       "      <td>89,000</td>\n",
       "    </tr>\n",
       "    <tr>\n",
       "      <th>1</th>\n",
       "      <td>CONDO/A</td>\n",
       "      <td>1653</td>\n",
       "      <td>Pentecost Way    #1</td>\n",
       "      <td>SD</td>\n",
       "      <td>$158,000</td>\n",
       "      <td>1/1,0,0,0</td>\n",
       "      <td>1980</td>\n",
       "      <td>38</td>\n",
       "      <td>158,000</td>\n",
       "    </tr>\n",
       "    <tr>\n",
       "      <th>2</th>\n",
       "      <td>CONDO/A</td>\n",
       "      <td>6101</td>\n",
       "      <td>Adelaide Ave    #107</td>\n",
       "      <td>SD</td>\n",
       "      <td>$168,250</td>\n",
       "      <td>0/1,0,0,0</td>\n",
       "      <td>1984/ASR</td>\n",
       "      <td>34</td>\n",
       "      <td>168,250</td>\n",
       "    </tr>\n",
       "    <tr>\n",
       "      <th>3</th>\n",
       "      <td>CONDO/A</td>\n",
       "      <td>589 N</td>\n",
       "      <td>Johnson    #137</td>\n",
       "      <td>ELC</td>\n",
       "      <td>$175,000</td>\n",
       "      <td>2/1,0,0,0</td>\n",
       "      <td>1980</td>\n",
       "      <td>38</td>\n",
       "      <td>175,000</td>\n",
       "    </tr>\n",
       "    <tr>\n",
       "      <th>4</th>\n",
       "      <td>SFR</td>\n",
       "      <td>3138</td>\n",
       "      <td>Roadrunner</td>\n",
       "      <td>BSPG</td>\n",
       "      <td>$190,000</td>\n",
       "      <td>2/2,0,0,0</td>\n",
       "      <td>1986</td>\n",
       "      <td>32</td>\n",
       "      <td>190,000</td>\n",
       "    </tr>\n",
       "  </tbody>\n",
       "</table>\n",
       "</div>"
      ],
      "text/plain": [
       "  Sub Type    St#               St Name  City  L/C Price      Br/Ba   YrBuilt  \\\n",
       "0   MANL/D     12     Via Veneto    #12   CHU   $89,000   2/2,0,0,0      2006   \n",
       "1  CONDO/A   1653   Pentecost Way    #1    SD  $158,000   1/1,0,0,0      1980   \n",
       "2  CONDO/A   6101  Adelaide Ave    #107    SD  $168,250   0/1,0,0,0  1984/ASR   \n",
       "3  CONDO/A  589 N       Johnson    #137   ELC  $175,000   2/1,0,0,0      1980   \n",
       "4      SFR   3138         Roadrunner     BSPG  $190,000   2/2,0,0,0      1986   \n",
       "\n",
       "  Age house_price  \n",
       "0  12     89,000   \n",
       "1  38    158,000   \n",
       "2  34    168,250   \n",
       "3  38    175,000   \n",
       "4  32    190,000   "
      ]
     },
     "execution_count": 43,
     "metadata": {},
     "output_type": "execute_result"
    }
   ],
   "source": [
    "df2.head()"
   ]
  },
  {
   "cell_type": "code",
   "execution_count": 44,
   "metadata": {
    "scrolled": true
   },
   "outputs": [
    {
     "data": {
      "text/html": [
       "<div>\n",
       "<style scoped>\n",
       "    .dataframe tbody tr th:only-of-type {\n",
       "        vertical-align: middle;\n",
       "    }\n",
       "\n",
       "    .dataframe tbody tr th {\n",
       "        vertical-align: top;\n",
       "    }\n",
       "\n",
       "    .dataframe thead th {\n",
       "        text-align: right;\n",
       "    }\n",
       "</style>\n",
       "<table border=\"1\" class=\"dataframe\">\n",
       "  <thead>\n",
       "    <tr style=\"text-align: right;\">\n",
       "      <th></th>\n",
       "      <th>L/C Price</th>\n",
       "      <th>Sub Type</th>\n",
       "      <th>St#</th>\n",
       "      <th>St Name</th>\n",
       "      <th>City</th>\n",
       "      <th>Br/Ba</th>\n",
       "      <th>YrBuilt</th>\n",
       "      <th>Age</th>\n",
       "      <th>house_price</th>\n",
       "    </tr>\n",
       "  </thead>\n",
       "  <tbody>\n",
       "    <tr>\n",
       "      <th>0</th>\n",
       "      <td>$89,000</td>\n",
       "      <td>MANL/D</td>\n",
       "      <td>12</td>\n",
       "      <td>Via Veneto    #12</td>\n",
       "      <td>CHU</td>\n",
       "      <td>2/2,0,0,0</td>\n",
       "      <td>2006</td>\n",
       "      <td>12</td>\n",
       "      <td>89,000</td>\n",
       "    </tr>\n",
       "    <tr>\n",
       "      <th>1</th>\n",
       "      <td>$158,000</td>\n",
       "      <td>CONDO/A</td>\n",
       "      <td>1653</td>\n",
       "      <td>Pentecost Way    #1</td>\n",
       "      <td>SD</td>\n",
       "      <td>1/1,0,0,0</td>\n",
       "      <td>1980</td>\n",
       "      <td>38</td>\n",
       "      <td>158,000</td>\n",
       "    </tr>\n",
       "    <tr>\n",
       "      <th>2</th>\n",
       "      <td>$168,250</td>\n",
       "      <td>CONDO/A</td>\n",
       "      <td>6101</td>\n",
       "      <td>Adelaide Ave    #107</td>\n",
       "      <td>SD</td>\n",
       "      <td>0/1,0,0,0</td>\n",
       "      <td>1984/ASR</td>\n",
       "      <td>34</td>\n",
       "      <td>168,250</td>\n",
       "    </tr>\n",
       "    <tr>\n",
       "      <th>3</th>\n",
       "      <td>$175,000</td>\n",
       "      <td>CONDO/A</td>\n",
       "      <td>589 N</td>\n",
       "      <td>Johnson    #137</td>\n",
       "      <td>ELC</td>\n",
       "      <td>2/1,0,0,0</td>\n",
       "      <td>1980</td>\n",
       "      <td>38</td>\n",
       "      <td>175,000</td>\n",
       "    </tr>\n",
       "    <tr>\n",
       "      <th>4</th>\n",
       "      <td>$190,000</td>\n",
       "      <td>SFR</td>\n",
       "      <td>3138</td>\n",
       "      <td>Roadrunner</td>\n",
       "      <td>BSPG</td>\n",
       "      <td>2/2,0,0,0</td>\n",
       "      <td>1986</td>\n",
       "      <td>32</td>\n",
       "      <td>190,000</td>\n",
       "    </tr>\n",
       "  </tbody>\n",
       "</table>\n",
       "</div>"
      ],
      "text/plain": [
       "   L/C Price Sub Type    St#               St Name  City      Br/Ba   YrBuilt  \\\n",
       "0   $89,000    MANL/D     12     Via Veneto    #12   CHU  2/2,0,0,0      2006   \n",
       "1  $158,000   CONDO/A   1653   Pentecost Way    #1    SD  1/1,0,0,0      1980   \n",
       "2  $168,250   CONDO/A   6101  Adelaide Ave    #107    SD  0/1,0,0,0  1984/ASR   \n",
       "3  $175,000   CONDO/A  589 N       Johnson    #137   ELC  2/1,0,0,0      1980   \n",
       "4  $190,000       SFR   3138         Roadrunner     BSPG  2/2,0,0,0      1986   \n",
       "\n",
       "  Age house_price  \n",
       "0  12     89,000   \n",
       "1  38    158,000   \n",
       "2  34    168,250   \n",
       "3  38    175,000   \n",
       "4  32    190,000   "
      ]
     },
     "execution_count": 44,
     "metadata": {},
     "output_type": "execute_result"
    }
   ],
   "source": [
    "df2_by_value = df2.set_index(\"L/C Price\")\n",
    "df2_by_value = df2_by_value.reset_index()\n",
    "df2_by_value.head()"
   ]
  },
  {
   "cell_type": "code",
   "execution_count": 45,
   "metadata": {},
   "outputs": [],
   "source": [
    "# import CityCode\n",
    "citycode_df = pd.read_csv('Data/CleanCityCode_nospace.csv')\n",
    "citycode_df = citycode_df[['City', 'Code']]\n",
    "citycode_df['Code'] = citycode_df['Code'].str.strip()"
   ]
  },
  {
   "cell_type": "code",
   "execution_count": 47,
   "metadata": {},
   "outputs": [
    {
     "name": "stdout",
     "output_type": "stream",
     "text": [
      "0\n",
      "200\n",
      "600\n",
      "800\n",
      "1200\n",
      "1600\n",
      "1800\n",
      "2200\n",
      "2400\n",
      "2600\n",
      "2800\n",
      "3000\n",
      "3200\n",
      "3400\n",
      "3600\n",
      "4200\n",
      "4400\n",
      "4600\n",
      "4800\n",
      "4800\n"
     ]
    }
   ],
   "source": [
    "df2_by_value['City Name'] = \"\"\n",
    "for index, row in df2_by_value.iterrows():\n",
    "    for i, r in citycode_df.iterrows():\n",
    "        if r['Code'] == row['City']:\n",
    "            row['City Name'] = r['City']\n",
    "            if index%200 == 0:\n",
    "                print(index)"
   ]
  },
  {
   "cell_type": "code",
   "execution_count": 48,
   "metadata": {},
   "outputs": [],
   "source": [
    "df2_by_value[\"Address\"] = df2_by_value[\"St#\"].astype(str) + \" \" + df2_by_value[\"St Name\"].astype(str) + \" \" + df2_by_value['City Name']\n",
    "df2_by_value['Lat'] = \"\"\n",
    "df2_by_value['Lng'] = \"\""
   ]
  },
  {
   "cell_type": "code",
   "execution_count": null,
   "metadata": {},
   "outputs": [
    {
     "name": "stdout",
     "output_type": "stream",
     "text": [
      "0\n",
      "Row 43 cannot be found on gmap.\n",
      "Row 49 cannot be found on gmap.\n",
      "100\n",
      "200\n",
      "300\n",
      "Row 379 cannot be found on gmap.\n",
      "Row 393 cannot be found on gmap.\n",
      "400\n",
      "Row 463 cannot be found on gmap.\n",
      "500\n",
      "Row 533 cannot be found on gmap.\n",
      "600\n",
      "700\n",
      "800\n",
      "900\n",
      "1000\n",
      "1100\n",
      "1200\n",
      "1300\n",
      "1400\n",
      "Row 1403 cannot be found on gmap.\n",
      "1500\n",
      "Row 1519 cannot be found on gmap.\n",
      "1600\n",
      "1700\n",
      "1800\n",
      "1900\n",
      "2000\n",
      "2100\n",
      "2200\n",
      "2300\n"
     ]
    }
   ],
   "source": [
    "params = {\"key\": api_key}\n",
    "for index, row in df2_by_value.iterrows():\n",
    "    base_url = \"https://maps.googleapis.com/maps/api/geocode/json\"\n",
    "    params['address'] = row['Address']\n",
    "    geo_data = requests.get(base_url, params).json()\n",
    "    try:\n",
    "        df2_by_value[\"Lat\"][index] = geo_data[\"results\"][0][\"geometry\"][\"location\"][\"lat\"]\n",
    "        df2_by_value[\"Lng\"][index] = geo_data[\"results\"][0][\"geometry\"][\"location\"][\"lng\"]\n",
    "        if index%100 == 0:\n",
    "            print(index)\n",
    "    except IndexError:\n",
    "        print(f\"Row {index} cannot be found on gmap.\")\n",
    "        continue"
   ]
  },
  {
   "cell_type": "code",
   "execution_count": null,
   "metadata": {},
   "outputs": [],
   "source": [
    "# Output to CSV\n",
    "df2_by_value.to_csv(\"Data/df2_latlng.csv\")"
   ]
  },
  {
   "cell_type": "markdown",
   "metadata": {},
   "source": [
    "### California Housing (2018) Gmap Plotting"
   ]
  },
  {
   "cell_type": "code",
   "execution_count": null,
   "metadata": {},
   "outputs": [],
   "source": [
    "df2_latlng = pd.read_csv(\"Data/df2_latlng.csv\")"
   ]
  },
  {
   "cell_type": "code",
   "execution_count": null,
   "metadata": {},
   "outputs": [],
   "source": [
    "df2_latlng = df2_latlng[['L/C Price','Lat', 'Lng']].dropna()"
   ]
  },
  {
   "cell_type": "code",
   "execution_count": null,
   "metadata": {},
   "outputs": [],
   "source": [
    "top5_df2 = df2_latlng.iloc[:round(len(df2_latlng['L/C Price'])*0.05), :].sort_values('L/C Price', ascending=True)\n",
    "bottom5_df2 = df2_latlng.iloc[round(len(df2_latlng['L/C Price'])*0.95): len(df2_latlng['L/C Price']),:].sort_values('L/C Price', ascending=True)"
   ]
  },
  {
   "cell_type": "code",
   "execution_count": null,
   "metadata": {},
   "outputs": [],
   "source": [
    "# Set the center of the map\n",
    "gmap_df2_tab = gmplot.GoogleMapPlotter(top5_df2['Lat'].median(),\n",
    "                                   top5_df2['Lng'].median(), 100000)\n",
    "# Plot scatter points based on LatLng\n",
    "gmap_df2_tab.scatter(top5_df2['Lat'], top5_df2['Lng'], '#FF0000', \n",
    "                              size = 2000, marker = False ) \n",
    "gmap_df2_tab.scatter(bottom5_df2['Lat'], bottom5_df2['Lng'], '#110870', \n",
    "                              size = 2000, marker = False ) \n",
    "# Draw out to 'Plot' folder in html format\n",
    "gmap_df2_tab.draw(\"Plot/gmap_df2_tab.html\")"
   ]
  },
  {
   "cell_type": "code",
   "execution_count": null,
   "metadata": {},
   "outputs": [],
   "source": [
    "# Set the center of the map\n",
    "gmap_df2 = gmplot.GoogleMapPlotter(df2_latlng['Lat'].median(),\n",
    "                                df2_latlng['Lng'].median(), 100)\n",
    "# Plot scatter points based on LatLng\n",
    "gmap_df2.scatter(df2_latlng['Lat'], df2_latlng['Lng'], '#FF0000', \n",
    "                              size = 1000, marker = False) \n",
    "# Draw out to 'Plot' folder in html format\n",
    "gmap_df2.draw(\"Plot/gmap_df2.html\")"
   ]
  },
  {
   "cell_type": "markdown",
   "metadata": {},
   "source": [
    "## t-test"
   ]
  },
  {
   "cell_type": "code",
   "execution_count": null,
   "metadata": {},
   "outputs": [],
   "source": [
    "# Import database\n",
    "df1 = pd.read_csv('Data/housing.csv')\n",
    "df2 = pd.read_csv('Data/Total.csv')\n",
    "df1 = df1.dropna()"
   ]
  },
  {
   "cell_type": "code",
   "execution_count": null,
   "metadata": {
    "scrolled": true
   },
   "outputs": [],
   "source": [
    "# SSort data by house value\n",
    "df1 = df1.sort_values('median_house_value', ascending=False).reset_index(drop=True)\n",
    "df1.head()"
   ]
  },
  {
   "cell_type": "code",
   "execution_count": null,
   "metadata": {},
   "outputs": [],
   "source": [
    "# Keep only the columns that are useful \n",
    "df2 = df2[['Sub Type', 'St#', 'St Name', 'City', 'L/C Price', 'Br/Ba', 'YrBuilt']]\n",
    "df2.head()\n",
    "#df2 = df2.drop(on=0)"
   ]
  },
  {
   "cell_type": "code",
   "execution_count": null,
   "metadata": {},
   "outputs": [],
   "source": [
    "df2['house_price'] = df2.loc[:, 'L/C Price'].str.split('$', expand=True)[1] "
   ]
  },
  {
   "cell_type": "code",
   "execution_count": null,
   "metadata": {},
   "outputs": [],
   "source": [
    "df2.head()"
   ]
  },
  {
   "cell_type": "code",
   "execution_count": null,
   "metadata": {},
   "outputs": [],
   "source": [
    "df2_by_value = df2.set_index(\"L/C Price\")\n",
    "df2_by_value = df2_by_value.reset_index()\n",
    "df2_by_value.head()"
   ]
  },
  {
   "cell_type": "code",
   "execution_count": null,
   "metadata": {
    "scrolled": true
   },
   "outputs": [],
   "source": [
    "df2['L/C Price'] = df2['L/C Price'].str.strip('$')\n",
    "df2['L/C Price'] = df2['L/C Price'].str.replace(',', \"\").astype(float)"
   ]
  },
  {
   "cell_type": "code",
   "execution_count": null,
   "metadata": {},
   "outputs": [],
   "source": [
    "s1 = df1['median_house_value']\n",
    "s2 = df2['L/C Price']"
   ]
  },
  {
   "cell_type": "code",
   "execution_count": null,
   "metadata": {},
   "outputs": [],
   "source": [
    "data_s1 = {'s1': s1}\n",
    "data_s1 = pd.DataFrame(data_s1)\n",
    "data_s2 = {'s2': s2}\n",
    "data_s2 = pd.DataFrame(data_s2)"
   ]
  },
  {
   "cell_type": "code",
   "execution_count": null,
   "metadata": {},
   "outputs": [],
   "source": [
    "(t_stat, p) = stats.ttest_ind(s1, s2, equal_var=False)\n",
    "print(\"t-statistics is {}.\".format(t_stat))\n",
    "print(\"p-value is {}.\".format(p))"
   ]
  },
  {
   "cell_type": "code",
   "execution_count": null,
   "metadata": {},
   "outputs": [],
   "source": [
    "# Normalization\n",
    "min_max_scaler = preprocessing.MinMaxScaler()\n",
    "np_scaled_s1 = min_max_scaler.fit_transform(data_s1)\n",
    "np_scaled_s2 = min_max_scaler.fit_transform(data_s2)"
   ]
  },
  {
   "cell_type": "code",
   "execution_count": null,
   "metadata": {
    "scrolled": true
   },
   "outputs": [],
   "source": [
    "(t_stat, p) = stats.ttest_ind(np_scaled_s1, np_scaled_s2, equal_var=False)\n",
    "print(\"t-statistics is {}.\".format(t_stat))\n",
    "print(\"p-value is {}.\".format(p))"
   ]
  },
  {
   "cell_type": "markdown",
   "metadata": {},
   "source": [
    "## Analysis and Conclusion\n",
    "We performed our t-test without normalization on the 1990 data set and 2018 data set, which gave us a p-value of 2.306824488018087e-15.\n",
    "Overall, due to the fact that there is a statistical difference between the two data sets, the same factors that affected the prices of houses in California during the year of 1990 are very unlikely to hold the same weight in determining the prices of houses in California in the present day."
   ]
  }
 ],
 "metadata": {
  "kernelspec": {
   "display_name": "Python [default]",
   "language": "python",
   "name": "python3"
  },
  "language_info": {
   "codemirror_mode": {
    "name": "ipython",
    "version": 3
   },
   "file_extension": ".py",
   "mimetype": "text/x-python",
   "name": "python",
   "nbconvert_exporter": "python",
   "pygments_lexer": "ipython3",
   "version": "3.6.5"
  }
 },
 "nbformat": 4,
 "nbformat_minor": 2
}
